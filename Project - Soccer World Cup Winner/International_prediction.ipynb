{
 "cells": [
  {
   "cell_type": "markdown",
   "metadata": {},
   "source": [
    "# Clean Data"
   ]
  },
  {
   "cell_type": "code",
   "execution_count": 1,
   "metadata": {},
   "outputs": [],
   "source": [
    "import pandas as pd\n",
    "import numpy as np\n",
    "import helper\n",
    "import matplotlib.pyplot as plt\n",
    "\n",
    "%load_ext autoreload\n",
    "%autoreload 2"
   ]
  },
  {
   "cell_type": "code",
   "execution_count": 2,
   "metadata": {},
   "outputs": [],
   "source": [
    "pd.set_option(\"display.max_columns\", None)"
   ]
  },
  {
   "cell_type": "code",
   "execution_count": 3,
   "metadata": {},
   "outputs": [],
   "source": [
    "# pd.read_csv(\"International_games/results.csv\", index_col='date', parse_dates=True).head(3)"
   ]
  },
  {
   "attachments": {},
   "cell_type": "markdown",
   "metadata": {},
   "source": [
    "# Clean FIFA players data"
   ]
  },
  {
   "cell_type": "code",
   "execution_count": 4,
   "metadata": {},
   "outputs": [],
   "source": [
    "def get_clean_fifa_ratings(year):\n",
    "    # Read CSV file of a specific year, clean the data and store it in a DataFrame\n",
    "    data_fifa_players = pd.read_csv(f\"Fifa_players/FIFA{year}_official_data.csv\")\n",
    "    data_fifa_players = data_fifa_players.set_index('ID')\n",
    "    data_fifa_players = data_fifa_players[data_fifa_players[\"Overall\"] >= 55]\n",
    "\n",
    "    # Clean players' position\n",
    "    data_fifa_players[\"Position\"] = data_fifa_players[\"Position\"].str.extract(r\">(\\w+)\")\n",
    "    if \"Best Position\" in data_fifa_players.columns:\n",
    "        data_fifa_players['Position'] = data_fifa_players['Best Position'].fillna(value=data_fifa_players['Position'])\n",
    "    \n",
    "    # Keep only desired columns\n",
    "    data_fifa_players = data_fifa_players[['Name', 'Nationality', 'Overall', 'Position', 'Club']]\n",
    "    data_fifa_players['Club'] = data_fifa_players['Club'].transform(lambda x: \"NONE\" if pd.isna(x) else x.upper())\n",
    "    data_fifa_players[\"Year\"] = [year]*len(data_fifa_players)\n",
    "    \n",
    "    \n",
    "    # Remove old players that have a name starting with a number (e.g. \"14 D. Beckam\")\n",
    "    data_fifa_players['Name'] = data_fifa_players['Name'].transform(lambda x: np.NaN if (x.lstrip(\" \")[0] == \"0\" or x.lstrip(\" \")[0] == \"1\" or x.lstrip(\" \")[0] == \"2\") else x)\n",
    "    data_fifa_players = data_fifa_players.dropna()\n",
    "    \n",
    "    # We could improve the Overall (rating) with the potential of the player, the age, etc...\n",
    "\n",
    "    return data_fifa_players\n",
    "\n",
    "def clean_position(x, data_previous_year):\n",
    "    # Function applied to a dataframe in the function \"get_all_fifa_ratings\"\n",
    "    # Tries to reduce the number of players that have a postion names:\n",
    "    # SUB for substitute or RES for reserviste (in which case we don't know there\n",
    "    # position on the field!)\n",
    "    if x[\"Position\"] not in [\"RES\", \"SUB\"]:\n",
    "        return x\n",
    "    else:\n",
    "        try:\n",
    "            x[\"Position\"] = data_previous_year.loc[x.name][\"Position\"]\n",
    "        except KeyError:\n",
    "            pass\n",
    "    return x\n",
    "\n",
    "def get_all_fifa_ratings():\n",
    "    # Put all the data together (for each of the years) and clean the players' position\n",
    "    data_all = pd.DataFrame()\n",
    "    for year in range(17, 24):\n",
    "        data_year = get_clean_fifa_ratings(year)\n",
    "        if year >= 18:\n",
    "            data_year = data_year.apply(clean_position, args=[data_all[data_all[\"Year\"] == (year-1)]], axis=1)\n",
    "        data_all = pd.concat([data_all, data_year])\n",
    "    return data_all\n"
   ]
  },
  {
   "cell_type": "code",
   "execution_count": 5,
   "metadata": {},
   "outputs": [],
   "source": [
    "data_fifa_players_raw = pd.read_csv(f\"Fifa_players/FIFA23_official_data.csv\")"
   ]
  },
  {
   "cell_type": "code",
   "execution_count": 7,
   "metadata": {},
   "outputs": [],
   "source": [
    "data_players_22 = get_clean_fifa_ratings(23)"
   ]
  },
  {
   "cell_type": "code",
   "execution_count": 8,
   "metadata": {},
   "outputs": [],
   "source": [
    "data_all_players = get_all_fifa_ratings()"
   ]
  },
  {
   "cell_type": "code",
   "execution_count": 10,
   "metadata": {},
   "outputs": [],
   "source": [
    "# TEST: Check which teams aren't in the fifa database (their names have\n",
    "# to be matched with those in fifa)\n",
    "# def manual_cleaning_names(data_games):\n",
    "\n",
    "# list_teams_to_replace = []\n",
    "# for team in data_games[\"home_team\"].unique():\n",
    "#     if team not in list(data_all_players[\"Nationality\"]):\n",
    "#         print(f\"Name games : {team}\")\n",
    "#         list_teams_to_replace.append(team)\n",
    "# print(list_teams_to_replace)"
   ]
  },
  {
   "attachments": {},
   "cell_type": "markdown",
   "metadata": {},
   "source": [
    "# Clean games data"
   ]
  },
  {
   "cell_type": "code",
   "execution_count": 11,
   "metadata": {},
   "outputs": [],
   "source": [
    "def match_club_names(x):\n",
    "    # to be applied to a DataFrame\n",
    "    # Changes the names of the club to match those in fifa\n",
    "    if x[\"home_team\"] in helper.DICT_TO_CLUB_NAME_DATA_TO_FIFA.keys():\n",
    "        x[\"home_team\"] = helper.DICT_TO_CLUB_NAME_DATA_TO_FIFA[x[\"home_team\"]]\n",
    "    if x[\"away_team\"] in helper.DICT_TO_CLUB_NAME_DATA_TO_FIFA.keys():\n",
    "        x[\"away_team\"] = helper.DICT_TO_CLUB_NAME_DATA_TO_FIFA[x[\"away_team\"]]\n",
    "    return x\n",
    "\n",
    "def get_clean_games():\n",
    "    data_games = pd.read_csv(\"International_games/results.csv\", index_col='date', parse_dates=True)\n",
    "    data_games = data_games[['home_team', 'away_team', 'home_score', 'away_score',\n",
    "        'tournament']].loc[\"2016\":]\n",
    "    data_games = data_games.reset_index()\n",
    "    data_games['Year'] = data_games['date'].transform(lambda x: int(x.year) - 2000 if x.month < 8 else int(x.year) + 1 - 2000)\n",
    "    data_games = data_games.set_index('date')\n",
    "    data_games = data_games[data_games['Year'] > 16]\n",
    "    \n",
    "    # print(data_games['tournament'].unique())\n",
    "    data_games = data_games[\n",
    "        (data_games['tournament'] == \"FIFA World Cup\") +\n",
    "        (data_games['tournament'] == \"Copa América\") +\n",
    "        (data_games['tournament'] == \"UEFA Euro\") +\n",
    "        (data_games['tournament'] == \"Gold Cup\") +\n",
    "        (data_games['tournament'] == \"AFC Asian Cup\") +\n",
    "        (data_games['tournament'] == \"African Cup of Nations\")        \n",
    "    ]\n",
    "    data_games = data_games.apply(match_club_names, axis=1)\n",
    "\n",
    "    data_games[\"home_team_year\"] = data_games[\"home_team\"] + \"_\" + data_games[\"Year\"].astype(str)\n",
    "    data_games[\"away_team_year\"] = data_games[\"away_team\"] + \"_\" + data_games[\"Year\"].astype(str)\n",
    "    \n",
    "    return data_games"
   ]
  },
  {
   "cell_type": "code",
   "execution_count": 12,
   "metadata": {},
   "outputs": [],
   "source": [
    "data_games = get_clean_games()"
   ]
  },
  {
   "attachments": {},
   "cell_type": "markdown",
   "metadata": {},
   "source": [
    "# Make teams"
   ]
  },
  {
   "cell_type": "code",
   "execution_count": 13,
   "metadata": {},
   "outputs": [],
   "source": [
    "def get_potential_players(players_country, list_fifa_positions):\n",
    "    potential_players = pd.DataFrame(columns=[\"ID\", \"Name\", \"Overall\"])\n",
    "    for fifa_position in list_fifa_positions:\n",
    "        players_country_and_position = players_country[players_country[\"Position\"] == fifa_position].sort_values(\"Overall\", ascending=False)\n",
    "        if len(players_country_and_position) != 0:\n",
    "            potential_players = pd.concat(\n",
    "                [\n",
    "                    potential_players,\n",
    "                    pd.DataFrame({\n",
    "                        \"ID\": [players_country_and_position.iloc[0].name], \n",
    "                        \"Name\": [players_country_and_position.iloc[0][\"Name\"]],\n",
    "                        \"Overall\": [players_country_and_position.iloc[0][\"Overall\"]]\n",
    "                    })\n",
    "                ],\n",
    "                axis=0)\n",
    "    return potential_players\n",
    "    \n",
    "\n",
    "def get_players_team(team, data_players, year, version, display=False):\n",
    "    # version: \"Club\" or \"Nationality\"\n",
    "    players_country = data_players[\n",
    "        (data_players[version] == team) &\n",
    "        (data_players[\"Year\"] == year)]\n",
    "    dict_positions = {\n",
    "        \"ST1\":[\"ST\", \"CF\", \"LS\", \"RS\"],\n",
    "        \"ST2\":[\"ST\", \"CF\", \"LF\", \"RF\", \"LS\", \"RS\", \"RW\", \"LW\"],\n",
    "        \"CM1\":[\"CM\", \"LCM\", \"RCM\", \"CAM\", \"RAM\", \"LAM\"],\n",
    "        \"CM2\":[\"CM\", \"LCM\", \"RCM\", \"CDM\", \"RDM\", \"LDM\"],\n",
    "        \"LM\": [\"LW\", \"LM\", 'LAM', 'CAM'],\n",
    "        \"RM\": [\"RM\", \"RW\", \"RAM\", 'CAM'],\n",
    "        \"CB1\":[\"CB\", \"LCB\", \"RCB\"],\n",
    "        \"CB2\":[\"CB\", \"LCB\", \"RCB\"],\n",
    "        \"LB\": [\"LWB\", \"LB\", \"CB\", \"LCB\"],\n",
    "        \"RB\": [\"RWB\", \"RB\", \"CB\", \"RCB\"],\n",
    "        \"GK\": [\"GK\"]\n",
    "        }\n",
    "    \n",
    "    list_overall_players_in_team = []\n",
    "    for defined_position, list_fifa_positions in dict_positions.items():\n",
    "        potential_players = get_potential_players(players_country, list_fifa_positions)\n",
    "            # print(players_country_and_position.iloc[0])\n",
    "            # print(potential_players)\n",
    "        if len(potential_players) == 0:\n",
    "            list_fifa_positions = [\"SUB\", \"RES\"]\n",
    "            potential_players = get_potential_players(players_country, list_fifa_positions)\n",
    "        if len(potential_players) == 0:\n",
    "            potential_players = pd.DataFrame({\n",
    "                \"ID\": [0], \n",
    "                \"Name\": [\"Average\"],\n",
    "                \"Overall\": [int(np.mean(list_overall_players_in_team)*0.95)]\n",
    "            })\n",
    "        else:\n",
    "            potential_players = potential_players.sort_values(\"Overall\", ascending=False)\n",
    "            players_country = players_country.drop(potential_players.iloc[0].ID, axis=0)\n",
    "        list_overall_players_in_team.append(potential_players.iloc[0][\"Overall\"])\n",
    "        if display:\n",
    "            print(f\"{defined_position}: - {list_fifa_positions} - {potential_players.iloc[0]['Name']} - {potential_players.iloc[0]['Overall']}\")\n",
    "\n",
    "    players_in_team = pd.DataFrame(columns=[\"Year\", \"Team\"]+list(dict_positions.keys()))\n",
    "    players_in_team.loc[len(players_in_team)] = [year, team] + list_overall_players_in_team\n",
    "        \n",
    "    return players_in_team\n"
   ]
  },
  {
   "cell_type": "code",
   "execution_count": 14,
   "metadata": {},
   "outputs": [],
   "source": [
    "def get_roster(data_games, data_all_players, version):\n",
    "    # get the roster of every team in the games data\n",
    "    data_rosters = pd.DataFrame()\n",
    "    teams_not_found = []\n",
    "    for year in data_all_players[\"Year\"].unique():\n",
    "        for team in (pd.concat([data_games[data_games[\"Year\"] == year][\"home_team\"], data_games[data_games[\"Year\"] == year][\"away_team\"]])).unique():\n",
    "            try:\n",
    "                data_rosters = pd.concat([data_rosters, get_players_team(team, data_all_players, year=year, version=version)], axis=0)\n",
    "            except ValueError:\n",
    "                teams_not_found.append(f\"{year}_{team}\")\n",
    "                print(year, team)\n",
    "    data_rosters[\"Team_year\"] = data_rosters[\"Team\"] + \"_\" + data_rosters[\"Year\"].astype(str)\n",
    "    # print(teams_not_found)\n",
    "    return data_rosters"
   ]
  },
  {
   "cell_type": "code",
   "execution_count": 15,
   "metadata": {},
   "outputs": [
    {
     "name": "stdout",
     "output_type": "stream",
     "text": [
      "ST1: - ['ST', 'CF', 'LS', 'RS'] - H. Kane - 89\n",
      "ST2: - ['ST', 'CF', 'LF', 'RF', 'LS', 'RS', 'RW', 'LW'] - R. Sterling - 86\n",
      "CM1: - ['CM', 'LCM', 'RCM', 'CAM', 'RAM', 'LAM'] - R. Kent - 83\n",
      "CM2: - ['CM', 'LCM', 'RCM', 'CDM', 'RDM', 'LDM'] - J. Bellingham - 84\n",
      "LM: - ['LW', 'LM', 'LAM', 'CAM'] - J. Grealish - 84\n",
      "RM: - ['RM', 'RW', 'RAM', 'CAM'] - P. Foden - 85\n",
      "CB1: - ['CB', 'LCB', 'RCB'] - F. Tomori - 84\n",
      "CB2: - ['CB', 'LCB', 'RCB'] - J. Stones - 83\n",
      "LB: - ['LWB', 'LB', 'CB', 'LCB'] - B. Chilwell - 82\n",
      "RB: - ['RWB', 'RB', 'CB', 'RCB'] - T. Alexander-Arnold - 87\n",
      "GK: - ['GK'] - J. Pickford - 82\n"
     ]
    },
    {
     "data": {
      "text/html": [
       "<div>\n",
       "<style scoped>\n",
       "    .dataframe tbody tr th:only-of-type {\n",
       "        vertical-align: middle;\n",
       "    }\n",
       "\n",
       "    .dataframe tbody tr th {\n",
       "        vertical-align: top;\n",
       "    }\n",
       "\n",
       "    .dataframe thead th {\n",
       "        text-align: right;\n",
       "    }\n",
       "</style>\n",
       "<table border=\"1\" class=\"dataframe\">\n",
       "  <thead>\n",
       "    <tr style=\"text-align: right;\">\n",
       "      <th></th>\n",
       "      <th>Year</th>\n",
       "      <th>Team</th>\n",
       "      <th>ST1</th>\n",
       "      <th>ST2</th>\n",
       "      <th>CM1</th>\n",
       "      <th>CM2</th>\n",
       "      <th>LM</th>\n",
       "      <th>RM</th>\n",
       "      <th>CB1</th>\n",
       "      <th>CB2</th>\n",
       "      <th>LB</th>\n",
       "      <th>RB</th>\n",
       "      <th>GK</th>\n",
       "    </tr>\n",
       "  </thead>\n",
       "  <tbody>\n",
       "    <tr>\n",
       "      <th>0</th>\n",
       "      <td>23</td>\n",
       "      <td>England</td>\n",
       "      <td>89</td>\n",
       "      <td>86</td>\n",
       "      <td>83</td>\n",
       "      <td>84</td>\n",
       "      <td>84</td>\n",
       "      <td>85</td>\n",
       "      <td>84</td>\n",
       "      <td>83</td>\n",
       "      <td>82</td>\n",
       "      <td>87</td>\n",
       "      <td>82</td>\n",
       "    </tr>\n",
       "  </tbody>\n",
       "</table>\n",
       "</div>"
      ],
      "text/plain": [
       "   Year     Team  ST1  ST2  CM1  CM2  LM  RM  CB1  CB2  LB  RB  GK\n",
       "0    23  England   89   86   83   84  84  85   84   83  82  87  82"
      ]
     },
     "execution_count": 15,
     "metadata": {},
     "output_type": "execute_result"
    }
   ],
   "source": [
    "get_players_team(\"England\", data_all_players, year=23, display=True, version=\"Nationality\")"
   ]
  },
  {
   "cell_type": "code",
   "execution_count": 16,
   "metadata": {},
   "outputs": [
    {
     "name": "stderr",
     "output_type": "stream",
     "text": [
      "/home/thibaud/miniconda3/envs/sdse/lib/python3.9/site-packages/numpy/core/fromnumeric.py:3432: RuntimeWarning: Mean of empty slice.\n",
      "  return _methods._mean(a, axis=axis, dtype=dtype,\n",
      "/home/thibaud/miniconda3/envs/sdse/lib/python3.9/site-packages/numpy/core/_methods.py:190: RuntimeWarning: invalid value encountered in double_scalars\n",
      "  ret = ret.dtype.type(ret / rcount)\n"
     ]
    },
    {
     "name": "stdout",
     "output_type": "stream",
     "text": [
      "17 Guinea-Bissau\n"
     ]
    },
    {
     "name": "stderr",
     "output_type": "stream",
     "text": [
      "/home/thibaud/miniconda3/envs/sdse/lib/python3.9/site-packages/numpy/core/fromnumeric.py:3432: RuntimeWarning: Mean of empty slice.\n",
      "  return _methods._mean(a, axis=axis, dtype=dtype,\n",
      "/home/thibaud/miniconda3/envs/sdse/lib/python3.9/site-packages/numpy/core/_methods.py:190: RuntimeWarning: invalid value encountered in double_scalars\n",
      "  ret = ret.dtype.type(ret / rcount)\n"
     ]
    },
    {
     "name": "stdout",
     "output_type": "stream",
     "text": [
      "17 French Guiana\n"
     ]
    },
    {
     "name": "stderr",
     "output_type": "stream",
     "text": [
      "/home/thibaud/miniconda3/envs/sdse/lib/python3.9/site-packages/numpy/core/fromnumeric.py:3432: RuntimeWarning: Mean of empty slice.\n",
      "  return _methods._mean(a, axis=axis, dtype=dtype,\n",
      "/home/thibaud/miniconda3/envs/sdse/lib/python3.9/site-packages/numpy/core/_methods.py:190: RuntimeWarning: invalid value encountered in double_scalars\n",
      "  ret = ret.dtype.type(ret / rcount)\n"
     ]
    },
    {
     "name": "stdout",
     "output_type": "stream",
     "text": [
      "17 Martinique\n"
     ]
    },
    {
     "name": "stderr",
     "output_type": "stream",
     "text": [
      "/home/thibaud/miniconda3/envs/sdse/lib/python3.9/site-packages/numpy/core/fromnumeric.py:3432: RuntimeWarning: Mean of empty slice.\n",
      "  return _methods._mean(a, axis=axis, dtype=dtype,\n",
      "/home/thibaud/miniconda3/envs/sdse/lib/python3.9/site-packages/numpy/core/_methods.py:190: RuntimeWarning: invalid value encountered in double_scalars\n",
      "  ret = ret.dtype.type(ret / rcount)\n"
     ]
    },
    {
     "name": "stdout",
     "output_type": "stream",
     "text": [
      "17 Curaçao\n"
     ]
    },
    {
     "name": "stderr",
     "output_type": "stream",
     "text": [
      "/home/thibaud/miniconda3/envs/sdse/lib/python3.9/site-packages/numpy/core/fromnumeric.py:3432: RuntimeWarning: Mean of empty slice.\n",
      "  return _methods._mean(a, axis=axis, dtype=dtype,\n",
      "/home/thibaud/miniconda3/envs/sdse/lib/python3.9/site-packages/numpy/core/_methods.py:190: RuntimeWarning: invalid value encountered in double_scalars\n",
      "  ret = ret.dtype.type(ret / rcount)\n"
     ]
    },
    {
     "name": "stdout",
     "output_type": "stream",
     "text": [
      "17 El Salvador\n"
     ]
    },
    {
     "name": "stderr",
     "output_type": "stream",
     "text": [
      "/home/thibaud/miniconda3/envs/sdse/lib/python3.9/site-packages/numpy/core/fromnumeric.py:3432: RuntimeWarning: Mean of empty slice.\n",
      "  return _methods._mean(a, axis=axis, dtype=dtype,\n",
      "/home/thibaud/miniconda3/envs/sdse/lib/python3.9/site-packages/numpy/core/_methods.py:190: RuntimeWarning: invalid value encountered in double_scalars\n",
      "  ret = ret.dtype.type(ret / rcount)\n"
     ]
    },
    {
     "name": "stdout",
     "output_type": "stream",
     "text": [
      "17 Nicaragua\n"
     ]
    },
    {
     "name": "stderr",
     "output_type": "stream",
     "text": [
      "/home/thibaud/miniconda3/envs/sdse/lib/python3.9/site-packages/numpy/core/fromnumeric.py:3432: RuntimeWarning: Mean of empty slice.\n",
      "  return _methods._mean(a, axis=axis, dtype=dtype,\n",
      "/home/thibaud/miniconda3/envs/sdse/lib/python3.9/site-packages/numpy/core/_methods.py:190: RuntimeWarning: invalid value encountered in double_scalars\n",
      "  ret = ret.dtype.type(ret / rcount)\n"
     ]
    },
    {
     "name": "stdout",
     "output_type": "stream",
     "text": [
      "19 United Arab Emirates\n"
     ]
    },
    {
     "name": "stderr",
     "output_type": "stream",
     "text": [
      "/home/thibaud/miniconda3/envs/sdse/lib/python3.9/site-packages/numpy/core/fromnumeric.py:3432: RuntimeWarning: Mean of empty slice.\n",
      "  return _methods._mean(a, axis=axis, dtype=dtype,\n",
      "/home/thibaud/miniconda3/envs/sdse/lib/python3.9/site-packages/numpy/core/_methods.py:190: RuntimeWarning: invalid value encountered in double_scalars\n",
      "  ret = ret.dtype.type(ret / rcount)\n"
     ]
    },
    {
     "name": "stdout",
     "output_type": "stream",
     "text": [
      "19 Iraq\n"
     ]
    },
    {
     "name": "stderr",
     "output_type": "stream",
     "text": [
      "/home/thibaud/miniconda3/envs/sdse/lib/python3.9/site-packages/numpy/core/fromnumeric.py:3432: RuntimeWarning: Mean of empty slice.\n",
      "  return _methods._mean(a, axis=axis, dtype=dtype,\n",
      "/home/thibaud/miniconda3/envs/sdse/lib/python3.9/site-packages/numpy/core/_methods.py:190: RuntimeWarning: invalid value encountered in double_scalars\n",
      "  ret = ret.dtype.type(ret / rcount)\n"
     ]
    },
    {
     "name": "stdout",
     "output_type": "stream",
     "text": [
      "19 Qatar\n"
     ]
    },
    {
     "name": "stderr",
     "output_type": "stream",
     "text": [
      "/home/thibaud/miniconda3/envs/sdse/lib/python3.9/site-packages/numpy/core/fromnumeric.py:3432: RuntimeWarning: Mean of empty slice.\n",
      "  return _methods._mean(a, axis=axis, dtype=dtype,\n",
      "/home/thibaud/miniconda3/envs/sdse/lib/python3.9/site-packages/numpy/core/_methods.py:190: RuntimeWarning: invalid value encountered in double_scalars\n",
      "  ret = ret.dtype.type(ret / rcount)\n",
      "/home/thibaud/miniconda3/envs/sdse/lib/python3.9/site-packages/numpy/core/fromnumeric.py:3432: RuntimeWarning: Mean of empty slice.\n",
      "  return _methods._mean(a, axis=axis, dtype=dtype,\n",
      "/home/thibaud/miniconda3/envs/sdse/lib/python3.9/site-packages/numpy/core/_methods.py:190: RuntimeWarning: invalid value encountered in double_scalars\n",
      "  ret = ret.dtype.type(ret / rcount)\n"
     ]
    },
    {
     "name": "stdout",
     "output_type": "stream",
     "text": [
      "19 Bahrain\n",
      "19 Jordan\n"
     ]
    },
    {
     "name": "stderr",
     "output_type": "stream",
     "text": [
      "/home/thibaud/miniconda3/envs/sdse/lib/python3.9/site-packages/numpy/core/fromnumeric.py:3432: RuntimeWarning: Mean of empty slice.\n",
      "  return _methods._mean(a, axis=axis, dtype=dtype,\n",
      "/home/thibaud/miniconda3/envs/sdse/lib/python3.9/site-packages/numpy/core/_methods.py:190: RuntimeWarning: invalid value encountered in double_scalars\n",
      "  ret = ret.dtype.type(ret / rcount)\n",
      "/home/thibaud/miniconda3/envs/sdse/lib/python3.9/site-packages/numpy/core/fromnumeric.py:3432: RuntimeWarning: Mean of empty slice.\n",
      "  return _methods._mean(a, axis=axis, dtype=dtype,\n",
      "/home/thibaud/miniconda3/envs/sdse/lib/python3.9/site-packages/numpy/core/_methods.py:190: RuntimeWarning: invalid value encountered in double_scalars\n",
      "  ret = ret.dtype.type(ret / rcount)\n",
      "/home/thibaud/miniconda3/envs/sdse/lib/python3.9/site-packages/numpy/core/fromnumeric.py:3432: RuntimeWarning: Mean of empty slice.\n",
      "  return _methods._mean(a, axis=axis, dtype=dtype,\n",
      "/home/thibaud/miniconda3/envs/sdse/lib/python3.9/site-packages/numpy/core/_methods.py:190: RuntimeWarning: invalid value encountered in double_scalars\n",
      "  ret = ret.dtype.type(ret / rcount)\n",
      "/home/thibaud/miniconda3/envs/sdse/lib/python3.9/site-packages/numpy/core/fromnumeric.py:3432: RuntimeWarning: Mean of empty slice.\n",
      "  return _methods._mean(a, axis=axis, dtype=dtype,\n",
      "/home/thibaud/miniconda3/envs/sdse/lib/python3.9/site-packages/numpy/core/_methods.py:190: RuntimeWarning: invalid value encountered in double_scalars\n",
      "  ret = ret.dtype.type(ret / rcount)\n",
      "/home/thibaud/miniconda3/envs/sdse/lib/python3.9/site-packages/numpy/core/fromnumeric.py:3432: RuntimeWarning: Mean of empty slice.\n",
      "  return _methods._mean(a, axis=axis, dtype=dtype,\n",
      "/home/thibaud/miniconda3/envs/sdse/lib/python3.9/site-packages/numpy/core/_methods.py:190: RuntimeWarning: invalid value encountered in double_scalars\n",
      "  ret = ret.dtype.type(ret / rcount)\n",
      "/home/thibaud/miniconda3/envs/sdse/lib/python3.9/site-packages/numpy/core/fromnumeric.py:3432: RuntimeWarning: Mean of empty slice.\n",
      "  return _methods._mean(a, axis=axis, dtype=dtype,\n",
      "/home/thibaud/miniconda3/envs/sdse/lib/python3.9/site-packages/numpy/core/_methods.py:190: RuntimeWarning: invalid value encountered in double_scalars\n",
      "  ret = ret.dtype.type(ret / rcount)\n"
     ]
    },
    {
     "name": "stdout",
     "output_type": "stream",
     "text": [
      "19 Philippines\n",
      "19 Kyrgyzstan\n",
      "19 Vietnam\n",
      "19 Yemen\n",
      "19 Lebanon\n",
      "19 North Korea\n"
     ]
    },
    {
     "name": "stderr",
     "output_type": "stream",
     "text": [
      "/home/thibaud/miniconda3/envs/sdse/lib/python3.9/site-packages/numpy/core/fromnumeric.py:3432: RuntimeWarning: Mean of empty slice.\n",
      "  return _methods._mean(a, axis=axis, dtype=dtype,\n",
      "/home/thibaud/miniconda3/envs/sdse/lib/python3.9/site-packages/numpy/core/_methods.py:190: RuntimeWarning: invalid value encountered in double_scalars\n",
      "  ret = ret.dtype.type(ret / rcount)\n",
      "/home/thibaud/miniconda3/envs/sdse/lib/python3.9/site-packages/numpy/core/fromnumeric.py:3432: RuntimeWarning: Mean of empty slice.\n",
      "  return _methods._mean(a, axis=axis, dtype=dtype,\n",
      "/home/thibaud/miniconda3/envs/sdse/lib/python3.9/site-packages/numpy/core/_methods.py:190: RuntimeWarning: invalid value encountered in double_scalars\n",
      "  ret = ret.dtype.type(ret / rcount)\n"
     ]
    },
    {
     "name": "stdout",
     "output_type": "stream",
     "text": [
      "19 Oman\n",
      "19 Turkmenistan\n"
     ]
    },
    {
     "name": "stderr",
     "output_type": "stream",
     "text": [
      "/home/thibaud/miniconda3/envs/sdse/lib/python3.9/site-packages/numpy/core/fromnumeric.py:3432: RuntimeWarning: Mean of empty slice.\n",
      "  return _methods._mean(a, axis=axis, dtype=dtype,\n",
      "/home/thibaud/miniconda3/envs/sdse/lib/python3.9/site-packages/numpy/core/_methods.py:190: RuntimeWarning: invalid value encountered in double_scalars\n",
      "  ret = ret.dtype.type(ret / rcount)\n"
     ]
    },
    {
     "name": "stdout",
     "output_type": "stream",
     "text": [
      "19 Curaçao\n"
     ]
    },
    {
     "name": "stderr",
     "output_type": "stream",
     "text": [
      "/home/thibaud/miniconda3/envs/sdse/lib/python3.9/site-packages/numpy/core/fromnumeric.py:3432: RuntimeWarning: Mean of empty slice.\n",
      "  return _methods._mean(a, axis=axis, dtype=dtype,\n",
      "/home/thibaud/miniconda3/envs/sdse/lib/python3.9/site-packages/numpy/core/_methods.py:190: RuntimeWarning: invalid value encountered in double_scalars\n",
      "  ret = ret.dtype.type(ret / rcount)\n",
      "/home/thibaud/miniconda3/envs/sdse/lib/python3.9/site-packages/numpy/core/fromnumeric.py:3432: RuntimeWarning: Mean of empty slice.\n",
      "  return _methods._mean(a, axis=axis, dtype=dtype,\n",
      "/home/thibaud/miniconda3/envs/sdse/lib/python3.9/site-packages/numpy/core/_methods.py:190: RuntimeWarning: invalid value encountered in double_scalars\n",
      "  ret = ret.dtype.type(ret / rcount)\n"
     ]
    },
    {
     "name": "stdout",
     "output_type": "stream",
     "text": [
      "19 Cuba\n",
      "19 Nicaragua\n"
     ]
    },
    {
     "name": "stderr",
     "output_type": "stream",
     "text": [
      "/home/thibaud/miniconda3/envs/sdse/lib/python3.9/site-packages/numpy/core/fromnumeric.py:3432: RuntimeWarning: Mean of empty slice.\n",
      "  return _methods._mean(a, axis=axis, dtype=dtype,\n",
      "/home/thibaud/miniconda3/envs/sdse/lib/python3.9/site-packages/numpy/core/_methods.py:190: RuntimeWarning: invalid value encountered in double_scalars\n",
      "  ret = ret.dtype.type(ret / rcount)\n"
     ]
    },
    {
     "name": "stdout",
     "output_type": "stream",
     "text": [
      "19 Guyana\n"
     ]
    },
    {
     "name": "stderr",
     "output_type": "stream",
     "text": [
      "/home/thibaud/miniconda3/envs/sdse/lib/python3.9/site-packages/numpy/core/fromnumeric.py:3432: RuntimeWarning: Mean of empty slice.\n",
      "  return _methods._mean(a, axis=axis, dtype=dtype,\n",
      "/home/thibaud/miniconda3/envs/sdse/lib/python3.9/site-packages/numpy/core/_methods.py:190: RuntimeWarning: invalid value encountered in double_scalars\n",
      "  ret = ret.dtype.type(ret / rcount)\n"
     ]
    },
    {
     "name": "stdout",
     "output_type": "stream",
     "text": [
      "19 Martinique\n"
     ]
    },
    {
     "name": "stderr",
     "output_type": "stream",
     "text": [
      "/home/thibaud/miniconda3/envs/sdse/lib/python3.9/site-packages/numpy/core/fromnumeric.py:3432: RuntimeWarning: Mean of empty slice.\n",
      "  return _methods._mean(a, axis=axis, dtype=dtype,\n",
      "/home/thibaud/miniconda3/envs/sdse/lib/python3.9/site-packages/numpy/core/_methods.py:190: RuntimeWarning: invalid value encountered in double_scalars\n",
      "  ret = ret.dtype.type(ret / rcount)\n",
      "/home/thibaud/miniconda3/envs/sdse/lib/python3.9/site-packages/numpy/core/fromnumeric.py:3432: RuntimeWarning: Mean of empty slice.\n",
      "  return _methods._mean(a, axis=axis, dtype=dtype,\n",
      "/home/thibaud/miniconda3/envs/sdse/lib/python3.9/site-packages/numpy/core/_methods.py:190: RuntimeWarning: invalid value encountered in double_scalars\n",
      "  ret = ret.dtype.type(ret / rcount)\n"
     ]
    },
    {
     "name": "stdout",
     "output_type": "stream",
     "text": [
      "19 Uganda\n",
      "19 Trinidad and Tobago\n"
     ]
    },
    {
     "name": "stderr",
     "output_type": "stream",
     "text": [
      "/home/thibaud/miniconda3/envs/sdse/lib/python3.9/site-packages/numpy/core/fromnumeric.py:3432: RuntimeWarning: Mean of empty slice.\n",
      "  return _methods._mean(a, axis=axis, dtype=dtype,\n",
      "/home/thibaud/miniconda3/envs/sdse/lib/python3.9/site-packages/numpy/core/_methods.py:190: RuntimeWarning: invalid value encountered in double_scalars\n",
      "  ret = ret.dtype.type(ret / rcount)\n"
     ]
    },
    {
     "name": "stdout",
     "output_type": "stream",
     "text": [
      "19 Mauritania\n"
     ]
    },
    {
     "name": "stderr",
     "output_type": "stream",
     "text": [
      "/home/thibaud/miniconda3/envs/sdse/lib/python3.9/site-packages/numpy/core/fromnumeric.py:3432: RuntimeWarning: Mean of empty slice.\n",
      "  return _methods._mean(a, axis=axis, dtype=dtype,\n",
      "/home/thibaud/miniconda3/envs/sdse/lib/python3.9/site-packages/numpy/core/_methods.py:190: RuntimeWarning: invalid value encountered in double_scalars\n",
      "  ret = ret.dtype.type(ret / rcount)\n"
     ]
    },
    {
     "name": "stdout",
     "output_type": "stream",
     "text": [
      "19 Namibia\n"
     ]
    },
    {
     "name": "stderr",
     "output_type": "stream",
     "text": [
      "/home/thibaud/miniconda3/envs/sdse/lib/python3.9/site-packages/numpy/core/fromnumeric.py:3432: RuntimeWarning: Mean of empty slice.\n",
      "  return _methods._mean(a, axis=axis, dtype=dtype,\n",
      "/home/thibaud/miniconda3/envs/sdse/lib/python3.9/site-packages/numpy/core/_methods.py:190: RuntimeWarning: invalid value encountered in double_scalars\n",
      "  ret = ret.dtype.type(ret / rcount)\n"
     ]
    },
    {
     "name": "stdout",
     "output_type": "stream",
     "text": [
      "19 Guinea-Bissau\n"
     ]
    },
    {
     "name": "stderr",
     "output_type": "stream",
     "text": [
      "/home/thibaud/miniconda3/envs/sdse/lib/python3.9/site-packages/numpy/core/fromnumeric.py:3432: RuntimeWarning: Mean of empty slice.\n",
      "  return _methods._mean(a, axis=axis, dtype=dtype,\n",
      "/home/thibaud/miniconda3/envs/sdse/lib/python3.9/site-packages/numpy/core/_methods.py:190: RuntimeWarning: invalid value encountered in double_scalars\n",
      "  ret = ret.dtype.type(ret / rcount)\n"
     ]
    },
    {
     "name": "stdout",
     "output_type": "stream",
     "text": [
      "21 El Salvador\n"
     ]
    },
    {
     "name": "stderr",
     "output_type": "stream",
     "text": [
      "/home/thibaud/miniconda3/envs/sdse/lib/python3.9/site-packages/numpy/core/fromnumeric.py:3432: RuntimeWarning: Mean of empty slice.\n",
      "  return _methods._mean(a, axis=axis, dtype=dtype,\n",
      "/home/thibaud/miniconda3/envs/sdse/lib/python3.9/site-packages/numpy/core/_methods.py:190: RuntimeWarning: invalid value encountered in double_scalars\n",
      "  ret = ret.dtype.type(ret / rcount)\n"
     ]
    },
    {
     "name": "stdout",
     "output_type": "stream",
     "text": [
      "21 Qatar\n"
     ]
    },
    {
     "name": "stderr",
     "output_type": "stream",
     "text": [
      "/home/thibaud/miniconda3/envs/sdse/lib/python3.9/site-packages/numpy/core/fromnumeric.py:3432: RuntimeWarning: Mean of empty slice.\n",
      "  return _methods._mean(a, axis=axis, dtype=dtype,\n",
      "/home/thibaud/miniconda3/envs/sdse/lib/python3.9/site-packages/numpy/core/_methods.py:190: RuntimeWarning: invalid value encountered in double_scalars\n",
      "  ret = ret.dtype.type(ret / rcount)\n",
      "/home/thibaud/miniconda3/envs/sdse/lib/python3.9/site-packages/numpy/core/fromnumeric.py:3432: RuntimeWarning: Mean of empty slice.\n",
      "  return _methods._mean(a, axis=axis, dtype=dtype,\n",
      "/home/thibaud/miniconda3/envs/sdse/lib/python3.9/site-packages/numpy/core/_methods.py:190: RuntimeWarning: invalid value encountered in double_scalars\n",
      "  ret = ret.dtype.type(ret / rcount)\n"
     ]
    },
    {
     "name": "stdout",
     "output_type": "stream",
     "text": [
      "21 Trinidad and Tobago\n",
      "21 Guatemala\n"
     ]
    },
    {
     "name": "stderr",
     "output_type": "stream",
     "text": [
      "/home/thibaud/miniconda3/envs/sdse/lib/python3.9/site-packages/numpy/core/fromnumeric.py:3432: RuntimeWarning: Mean of empty slice.\n",
      "  return _methods._mean(a, axis=axis, dtype=dtype,\n",
      "/home/thibaud/miniconda3/envs/sdse/lib/python3.9/site-packages/numpy/core/_methods.py:190: RuntimeWarning: invalid value encountered in double_scalars\n",
      "  ret = ret.dtype.type(ret / rcount)\n",
      "/home/thibaud/miniconda3/envs/sdse/lib/python3.9/site-packages/numpy/core/fromnumeric.py:3432: RuntimeWarning: Mean of empty slice.\n",
      "  return _methods._mean(a, axis=axis, dtype=dtype,\n",
      "/home/thibaud/miniconda3/envs/sdse/lib/python3.9/site-packages/numpy/core/_methods.py:190: RuntimeWarning: invalid value encountered in double_scalars\n",
      "  ret = ret.dtype.type(ret / rcount)\n",
      "/home/thibaud/miniconda3/envs/sdse/lib/python3.9/site-packages/numpy/core/fromnumeric.py:3432: RuntimeWarning: Mean of empty slice.\n",
      "  return _methods._mean(a, axis=axis, dtype=dtype,\n",
      "/home/thibaud/miniconda3/envs/sdse/lib/python3.9/site-packages/numpy/core/_methods.py:190: RuntimeWarning: invalid value encountered in double_scalars\n",
      "  ret = ret.dtype.type(ret / rcount)\n"
     ]
    },
    {
     "name": "stdout",
     "output_type": "stream",
     "text": [
      "21 Guadeloupe\n",
      "21 Suriname\n",
      "21 Grenada\n"
     ]
    },
    {
     "name": "stderr",
     "output_type": "stream",
     "text": [
      "/home/thibaud/miniconda3/envs/sdse/lib/python3.9/site-packages/numpy/core/fromnumeric.py:3432: RuntimeWarning: Mean of empty slice.\n",
      "  return _methods._mean(a, axis=axis, dtype=dtype,\n",
      "/home/thibaud/miniconda3/envs/sdse/lib/python3.9/site-packages/numpy/core/_methods.py:190: RuntimeWarning: invalid value encountered in double_scalars\n",
      "  ret = ret.dtype.type(ret / rcount)\n"
     ]
    },
    {
     "name": "stdout",
     "output_type": "stream",
     "text": [
      "21 Martinique\n"
     ]
    },
    {
     "name": "stderr",
     "output_type": "stream",
     "text": [
      "/home/thibaud/miniconda3/envs/sdse/lib/python3.9/site-packages/numpy/core/fromnumeric.py:3432: RuntimeWarning: Mean of empty slice.\n",
      "  return _methods._mean(a, axis=axis, dtype=dtype,\n",
      "/home/thibaud/miniconda3/envs/sdse/lib/python3.9/site-packages/numpy/core/_methods.py:190: RuntimeWarning: invalid value encountered in double_scalars\n",
      "  ret = ret.dtype.type(ret / rcount)\n"
     ]
    },
    {
     "name": "stdout",
     "output_type": "stream",
     "text": [
      "22 Ethiopia\n"
     ]
    },
    {
     "name": "stderr",
     "output_type": "stream",
     "text": [
      "/home/thibaud/miniconda3/envs/sdse/lib/python3.9/site-packages/numpy/core/fromnumeric.py:3432: RuntimeWarning: Mean of empty slice.\n",
      "  return _methods._mean(a, axis=axis, dtype=dtype,\n",
      "/home/thibaud/miniconda3/envs/sdse/lib/python3.9/site-packages/numpy/core/_methods.py:190: RuntimeWarning: invalid value encountered in double_scalars\n",
      "  ret = ret.dtype.type(ret / rcount)\n"
     ]
    },
    {
     "name": "stdout",
     "output_type": "stream",
     "text": [
      "22 Comoros\n"
     ]
    },
    {
     "name": "stderr",
     "output_type": "stream",
     "text": [
      "/home/thibaud/miniconda3/envs/sdse/lib/python3.9/site-packages/numpy/core/fromnumeric.py:3432: RuntimeWarning: Mean of empty slice.\n",
      "  return _methods._mean(a, axis=axis, dtype=dtype,\n",
      "/home/thibaud/miniconda3/envs/sdse/lib/python3.9/site-packages/numpy/core/_methods.py:190: RuntimeWarning: invalid value encountered in double_scalars\n",
      "  ret = ret.dtype.type(ret / rcount)\n"
     ]
    },
    {
     "name": "stdout",
     "output_type": "stream",
     "text": [
      "22 Equatorial Guinea\n"
     ]
    },
    {
     "name": "stderr",
     "output_type": "stream",
     "text": [
      "/home/thibaud/miniconda3/envs/sdse/lib/python3.9/site-packages/numpy/core/fromnumeric.py:3432: RuntimeWarning: Mean of empty slice.\n",
      "  return _methods._mean(a, axis=axis, dtype=dtype,\n",
      "/home/thibaud/miniconda3/envs/sdse/lib/python3.9/site-packages/numpy/core/_methods.py:190: RuntimeWarning: invalid value encountered in double_scalars\n",
      "  ret = ret.dtype.type(ret / rcount)\n",
      "/home/thibaud/miniconda3/envs/sdse/lib/python3.9/site-packages/numpy/core/fromnumeric.py:3432: RuntimeWarning: Mean of empty slice.\n",
      "  return _methods._mean(a, axis=axis, dtype=dtype,\n",
      "/home/thibaud/miniconda3/envs/sdse/lib/python3.9/site-packages/numpy/core/_methods.py:190: RuntimeWarning: invalid value encountered in double_scalars\n",
      "  ret = ret.dtype.type(ret / rcount)\n"
     ]
    },
    {
     "name": "stdout",
     "output_type": "stream",
     "text": [
      "22 Cape Verde\n",
      "22 Malawi\n"
     ]
    },
    {
     "name": "stderr",
     "output_type": "stream",
     "text": [
      "/home/thibaud/miniconda3/envs/sdse/lib/python3.9/site-packages/numpy/core/fromnumeric.py:3432: RuntimeWarning: Mean of empty slice.\n",
      "  return _methods._mean(a, axis=axis, dtype=dtype,\n",
      "/home/thibaud/miniconda3/envs/sdse/lib/python3.9/site-packages/numpy/core/_methods.py:190: RuntimeWarning: invalid value encountered in double_scalars\n",
      "  ret = ret.dtype.type(ret / rcount)\n",
      "/home/thibaud/miniconda3/envs/sdse/lib/python3.9/site-packages/numpy/core/fromnumeric.py:3432: RuntimeWarning: Mean of empty slice.\n",
      "  return _methods._mean(a, axis=axis, dtype=dtype,\n",
      "/home/thibaud/miniconda3/envs/sdse/lib/python3.9/site-packages/numpy/core/_methods.py:190: RuntimeWarning: invalid value encountered in double_scalars\n",
      "  ret = ret.dtype.type(ret / rcount)\n"
     ]
    },
    {
     "name": "stdout",
     "output_type": "stream",
     "text": [
      "22 Guinea-Bissau\n",
      "22 Ivory Coast\n"
     ]
    }
   ],
   "source": [
    "data_rosters = get_roster(data_games, data_all_players, version=\"Nationality\")"
   ]
  },
  {
   "cell_type": "code",
   "execution_count": 17,
   "metadata": {},
   "outputs": [
    {
     "data": {
      "text/html": [
       "<div>\n",
       "<style scoped>\n",
       "    .dataframe tbody tr th:only-of-type {\n",
       "        vertical-align: middle;\n",
       "    }\n",
       "\n",
       "    .dataframe tbody tr th {\n",
       "        vertical-align: top;\n",
       "    }\n",
       "\n",
       "    .dataframe thead th {\n",
       "        text-align: right;\n",
       "    }\n",
       "</style>\n",
       "<table border=\"1\" class=\"dataframe\">\n",
       "  <thead>\n",
       "    <tr style=\"text-align: right;\">\n",
       "      <th></th>\n",
       "      <th>Year</th>\n",
       "      <th>Team</th>\n",
       "      <th>ST1</th>\n",
       "      <th>ST2</th>\n",
       "      <th>CM1</th>\n",
       "      <th>CM2</th>\n",
       "      <th>LM</th>\n",
       "      <th>RM</th>\n",
       "      <th>CB1</th>\n",
       "      <th>CB2</th>\n",
       "      <th>LB</th>\n",
       "      <th>RB</th>\n",
       "      <th>GK</th>\n",
       "      <th>Team_year</th>\n",
       "    </tr>\n",
       "  </thead>\n",
       "  <tbody>\n",
       "    <tr>\n",
       "      <th>0</th>\n",
       "      <td>17</td>\n",
       "      <td>Burkina Faso</td>\n",
       "      <td>68</td>\n",
       "      <td>74</td>\n",
       "      <td>78</td>\n",
       "      <td>77</td>\n",
       "      <td>74</td>\n",
       "      <td>71</td>\n",
       "      <td>75</td>\n",
       "      <td>71</td>\n",
       "      <td>70</td>\n",
       "      <td>68</td>\n",
       "      <td>68</td>\n",
       "      <td>Burkina Faso_17</td>\n",
       "    </tr>\n",
       "    <tr>\n",
       "      <th>0</th>\n",
       "      <td>17</td>\n",
       "      <td>Gabon</td>\n",
       "      <td>87</td>\n",
       "      <td>67</td>\n",
       "      <td>77</td>\n",
       "      <td>74</td>\n",
       "      <td>68</td>\n",
       "      <td>70</td>\n",
       "      <td>72</td>\n",
       "      <td>70</td>\n",
       "      <td>69</td>\n",
       "      <td>69</td>\n",
       "      <td>70</td>\n",
       "      <td>Gabon_17</td>\n",
       "    </tr>\n",
       "    <tr>\n",
       "      <th>0</th>\n",
       "      <td>17</td>\n",
       "      <td>Algeria</td>\n",
       "      <td>82</td>\n",
       "      <td>75</td>\n",
       "      <td>82</td>\n",
       "      <td>79</td>\n",
       "      <td>80</td>\n",
       "      <td>84</td>\n",
       "      <td>77</td>\n",
       "      <td>74</td>\n",
       "      <td>79</td>\n",
       "      <td>74</td>\n",
       "      <td>67</td>\n",
       "      <td>Algeria_17</td>\n",
       "    </tr>\n",
       "    <tr>\n",
       "      <th>0</th>\n",
       "      <td>17</td>\n",
       "      <td>Tunisia</td>\n",
       "      <td>73</td>\n",
       "      <td>73</td>\n",
       "      <td>79</td>\n",
       "      <td>73</td>\n",
       "      <td>74</td>\n",
       "      <td>73</td>\n",
       "      <td>78</td>\n",
       "      <td>75</td>\n",
       "      <td>72</td>\n",
       "      <td>72</td>\n",
       "      <td>55</td>\n",
       "      <td>Tunisia_17</td>\n",
       "    </tr>\n",
       "    <tr>\n",
       "      <th>0</th>\n",
       "      <td>17</td>\n",
       "      <td>DR Congo</td>\n",
       "      <td>81</td>\n",
       "      <td>78</td>\n",
       "      <td>76</td>\n",
       "      <td>73</td>\n",
       "      <td>77</td>\n",
       "      <td>78</td>\n",
       "      <td>76</td>\n",
       "      <td>73</td>\n",
       "      <td>71</td>\n",
       "      <td>72</td>\n",
       "      <td>68</td>\n",
       "      <td>DR Congo_17</td>\n",
       "    </tr>\n",
       "    <tr>\n",
       "      <th>...</th>\n",
       "      <td>...</td>\n",
       "      <td>...</td>\n",
       "      <td>...</td>\n",
       "      <td>...</td>\n",
       "      <td>...</td>\n",
       "      <td>...</td>\n",
       "      <td>...</td>\n",
       "      <td>...</td>\n",
       "      <td>...</td>\n",
       "      <td>...</td>\n",
       "      <td>...</td>\n",
       "      <td>...</td>\n",
       "      <td>...</td>\n",
       "      <td>...</td>\n",
       "    </tr>\n",
       "    <tr>\n",
       "      <th>0</th>\n",
       "      <td>23</td>\n",
       "      <td>Australia</td>\n",
       "      <td>75</td>\n",
       "      <td>70</td>\n",
       "      <td>76</td>\n",
       "      <td>71</td>\n",
       "      <td>75</td>\n",
       "      <td>72</td>\n",
       "      <td>72</td>\n",
       "      <td>72</td>\n",
       "      <td>70</td>\n",
       "      <td>72</td>\n",
       "      <td>78</td>\n",
       "      <td>Australia_23</td>\n",
       "    </tr>\n",
       "    <tr>\n",
       "      <th>0</th>\n",
       "      <td>23</td>\n",
       "      <td>Costa Rica</td>\n",
       "      <td>66</td>\n",
       "      <td>71</td>\n",
       "      <td>61</td>\n",
       "      <td>58</td>\n",
       "      <td>65</td>\n",
       "      <td>71</td>\n",
       "      <td>67</td>\n",
       "      <td>62</td>\n",
       "      <td>62</td>\n",
       "      <td>74</td>\n",
       "      <td>88</td>\n",
       "      <td>Costa Rica_23</td>\n",
       "    </tr>\n",
       "    <tr>\n",
       "      <th>0</th>\n",
       "      <td>23</td>\n",
       "      <td>Canada</td>\n",
       "      <td>74</td>\n",
       "      <td>72</td>\n",
       "      <td>74</td>\n",
       "      <td>76</td>\n",
       "      <td>70</td>\n",
       "      <td>79</td>\n",
       "      <td>69</td>\n",
       "      <td>67</td>\n",
       "      <td>84</td>\n",
       "      <td>67</td>\n",
       "      <td>77</td>\n",
       "      <td>Canada_23</td>\n",
       "    </tr>\n",
       "    <tr>\n",
       "      <th>0</th>\n",
       "      <td>23</td>\n",
       "      <td>Serbia</td>\n",
       "      <td>84</td>\n",
       "      <td>84</td>\n",
       "      <td>86</td>\n",
       "      <td>79</td>\n",
       "      <td>85</td>\n",
       "      <td>77</td>\n",
       "      <td>80</td>\n",
       "      <td>74</td>\n",
       "      <td>74</td>\n",
       "      <td>74</td>\n",
       "      <td>80</td>\n",
       "      <td>Serbia_23</td>\n",
       "    </tr>\n",
       "    <tr>\n",
       "      <th>0</th>\n",
       "      <td>23</td>\n",
       "      <td>Ghana</td>\n",
       "      <td>76</td>\n",
       "      <td>75</td>\n",
       "      <td>84</td>\n",
       "      <td>76</td>\n",
       "      <td>76</td>\n",
       "      <td>75</td>\n",
       "      <td>78</td>\n",
       "      <td>77</td>\n",
       "      <td>77</td>\n",
       "      <td>72</td>\n",
       "      <td>74</td>\n",
       "      <td>Ghana_23</td>\n",
       "    </tr>\n",
       "  </tbody>\n",
       "</table>\n",
       "<p>198 rows × 14 columns</p>\n",
       "</div>"
      ],
      "text/plain": [
       "    Year          Team  ST1  ST2  CM1  CM2  LM  RM  CB1  CB2  LB  RB  GK  \\\n",
       "0     17  Burkina Faso   68   74   78   77  74  71   75   71  70  68  68   \n",
       "0     17         Gabon   87   67   77   74  68  70   72   70  69  69  70   \n",
       "0     17       Algeria   82   75   82   79  80  84   77   74  79  74  67   \n",
       "0     17       Tunisia   73   73   79   73  74  73   78   75  72  72  55   \n",
       "0     17      DR Congo   81   78   76   73  77  78   76   73  71  72  68   \n",
       "..   ...           ...  ...  ...  ...  ...  ..  ..  ...  ...  ..  ..  ..   \n",
       "0     23     Australia   75   70   76   71  75  72   72   72  70  72  78   \n",
       "0     23    Costa Rica   66   71   61   58  65  71   67   62  62  74  88   \n",
       "0     23        Canada   74   72   74   76  70  79   69   67  84  67  77   \n",
       "0     23        Serbia   84   84   86   79  85  77   80   74  74  74  80   \n",
       "0     23         Ghana   76   75   84   76  76  75   78   77  77  72  74   \n",
       "\n",
       "          Team_year  \n",
       "0   Burkina Faso_17  \n",
       "0          Gabon_17  \n",
       "0        Algeria_17  \n",
       "0        Tunisia_17  \n",
       "0       DR Congo_17  \n",
       "..              ...  \n",
       "0      Australia_23  \n",
       "0     Costa Rica_23  \n",
       "0         Canada_23  \n",
       "0         Serbia_23  \n",
       "0          Ghana_23  \n",
       "\n",
       "[198 rows x 14 columns]"
      ]
     },
     "execution_count": 17,
     "metadata": {},
     "output_type": "execute_result"
    }
   ],
   "source": [
    "data_rosters"
   ]
  },
  {
   "attachments": {},
   "cell_type": "markdown",
   "metadata": {},
   "source": [
    "# Create final dataframe"
   ]
  },
  {
   "cell_type": "code",
   "execution_count": 18,
   "metadata": {},
   "outputs": [],
   "source": [
    "data_full = pd.merge(left=data_games, right=data_rosters, how='inner', left_on=\"home_team_year\", right_on=\"Team_year\")\n",
    "data_full = pd.merge(left=data_full, right=data_rosters, how='inner', left_on=\"away_team_year\", right_on=\"Team_year\")\n",
    "data_full.drop([\"Year_x\", \"tournament\", \"Year_y\", \"home_team\", \"away_team\", \"home_team_year\", \"away_team_year\", \"Team_year_x\", \"Team_year_y\", \"Team_x\", \"Team_y\", \"Year\"], axis=1, inplace=True)\n",
    "data_full = data_full.dropna()"
   ]
  },
  {
   "cell_type": "code",
   "execution_count": 64,
   "metadata": {},
   "outputs": [],
   "source": [
    "def get_result(x):\n",
    "    if x[\"home_score\"] > x[\"away_score\"]:\n",
    "        return \"w_home\"\n",
    "    elif x[\"home_score\"] < x[\"away_score\"]:\n",
    "        return \"w_away\"\n",
    "    return \"draw\""
   ]
  },
  {
   "cell_type": "code",
   "execution_count": 20,
   "metadata": {},
   "outputs": [
    {
     "data": {
      "text/html": [
       "<div>\n",
       "<style scoped>\n",
       "    .dataframe tbody tr th:only-of-type {\n",
       "        vertical-align: middle;\n",
       "    }\n",
       "\n",
       "    .dataframe tbody tr th {\n",
       "        vertical-align: top;\n",
       "    }\n",
       "\n",
       "    .dataframe thead th {\n",
       "        text-align: right;\n",
       "    }\n",
       "</style>\n",
       "<table border=\"1\" class=\"dataframe\">\n",
       "  <thead>\n",
       "    <tr style=\"text-align: right;\">\n",
       "      <th></th>\n",
       "      <th>ST1_x</th>\n",
       "      <th>ST2_x</th>\n",
       "      <th>CM1_x</th>\n",
       "      <th>CM2_x</th>\n",
       "      <th>LM_x</th>\n",
       "      <th>RM_x</th>\n",
       "      <th>CB1_x</th>\n",
       "      <th>CB2_x</th>\n",
       "      <th>LB_x</th>\n",
       "      <th>RB_x</th>\n",
       "      <th>GK_x</th>\n",
       "      <th>ST1_y</th>\n",
       "      <th>ST2_y</th>\n",
       "      <th>CM1_y</th>\n",
       "      <th>CM2_y</th>\n",
       "      <th>LM_y</th>\n",
       "      <th>RM_y</th>\n",
       "      <th>CB1_y</th>\n",
       "      <th>CB2_y</th>\n",
       "      <th>LB_y</th>\n",
       "      <th>RB_y</th>\n",
       "      <th>GK_y</th>\n",
       "      <th>Result</th>\n",
       "    </tr>\n",
       "  </thead>\n",
       "  <tbody>\n",
       "    <tr>\n",
       "      <th>0</th>\n",
       "      <td>68</td>\n",
       "      <td>74</td>\n",
       "      <td>78</td>\n",
       "      <td>77</td>\n",
       "      <td>74</td>\n",
       "      <td>71</td>\n",
       "      <td>75</td>\n",
       "      <td>71</td>\n",
       "      <td>70</td>\n",
       "      <td>68</td>\n",
       "      <td>68</td>\n",
       "      <td>81</td>\n",
       "      <td>78</td>\n",
       "      <td>75</td>\n",
       "      <td>77</td>\n",
       "      <td>73</td>\n",
       "      <td>73</td>\n",
       "      <td>83</td>\n",
       "      <td>78</td>\n",
       "      <td>78</td>\n",
       "      <td>77</td>\n",
       "      <td>81</td>\n",
       "      <td>draw</td>\n",
       "    </tr>\n",
       "    <tr>\n",
       "      <th>1</th>\n",
       "      <td>87</td>\n",
       "      <td>67</td>\n",
       "      <td>77</td>\n",
       "      <td>74</td>\n",
       "      <td>68</td>\n",
       "      <td>70</td>\n",
       "      <td>72</td>\n",
       "      <td>70</td>\n",
       "      <td>69</td>\n",
       "      <td>69</td>\n",
       "      <td>70</td>\n",
       "      <td>81</td>\n",
       "      <td>78</td>\n",
       "      <td>75</td>\n",
       "      <td>77</td>\n",
       "      <td>73</td>\n",
       "      <td>73</td>\n",
       "      <td>83</td>\n",
       "      <td>78</td>\n",
       "      <td>78</td>\n",
       "      <td>77</td>\n",
       "      <td>81</td>\n",
       "      <td>draw</td>\n",
       "    </tr>\n",
       "    <tr>\n",
       "      <th>2</th>\n",
       "      <td>79</td>\n",
       "      <td>79</td>\n",
       "      <td>77</td>\n",
       "      <td>82</td>\n",
       "      <td>74</td>\n",
       "      <td>82</td>\n",
       "      <td>83</td>\n",
       "      <td>78</td>\n",
       "      <td>78</td>\n",
       "      <td>78</td>\n",
       "      <td>73</td>\n",
       "      <td>81</td>\n",
       "      <td>78</td>\n",
       "      <td>75</td>\n",
       "      <td>77</td>\n",
       "      <td>73</td>\n",
       "      <td>73</td>\n",
       "      <td>83</td>\n",
       "      <td>78</td>\n",
       "      <td>78</td>\n",
       "      <td>77</td>\n",
       "      <td>81</td>\n",
       "      <td>draw</td>\n",
       "    </tr>\n",
       "    <tr>\n",
       "      <th>3</th>\n",
       "      <td>75</td>\n",
       "      <td>82</td>\n",
       "      <td>73</td>\n",
       "      <td>77</td>\n",
       "      <td>71</td>\n",
       "      <td>74</td>\n",
       "      <td>73</td>\n",
       "      <td>70</td>\n",
       "      <td>72</td>\n",
       "      <td>69</td>\n",
       "      <td>74</td>\n",
       "      <td>81</td>\n",
       "      <td>78</td>\n",
       "      <td>75</td>\n",
       "      <td>77</td>\n",
       "      <td>73</td>\n",
       "      <td>73</td>\n",
       "      <td>83</td>\n",
       "      <td>78</td>\n",
       "      <td>78</td>\n",
       "      <td>77</td>\n",
       "      <td>81</td>\n",
       "      <td>w_away</td>\n",
       "    </tr>\n",
       "    <tr>\n",
       "      <th>4</th>\n",
       "      <td>68</td>\n",
       "      <td>74</td>\n",
       "      <td>78</td>\n",
       "      <td>77</td>\n",
       "      <td>74</td>\n",
       "      <td>71</td>\n",
       "      <td>75</td>\n",
       "      <td>71</td>\n",
       "      <td>70</td>\n",
       "      <td>68</td>\n",
       "      <td>68</td>\n",
       "      <td>73</td>\n",
       "      <td>73</td>\n",
       "      <td>79</td>\n",
       "      <td>73</td>\n",
       "      <td>74</td>\n",
       "      <td>73</td>\n",
       "      <td>78</td>\n",
       "      <td>75</td>\n",
       "      <td>72</td>\n",
       "      <td>72</td>\n",
       "      <td>55</td>\n",
       "      <td>w_home</td>\n",
       "    </tr>\n",
       "    <tr>\n",
       "      <th>...</th>\n",
       "      <td>...</td>\n",
       "      <td>...</td>\n",
       "      <td>...</td>\n",
       "      <td>...</td>\n",
       "      <td>...</td>\n",
       "      <td>...</td>\n",
       "      <td>...</td>\n",
       "      <td>...</td>\n",
       "      <td>...</td>\n",
       "      <td>...</td>\n",
       "      <td>...</td>\n",
       "      <td>...</td>\n",
       "      <td>...</td>\n",
       "      <td>...</td>\n",
       "      <td>...</td>\n",
       "      <td>...</td>\n",
       "      <td>...</td>\n",
       "      <td>...</td>\n",
       "      <td>...</td>\n",
       "      <td>...</td>\n",
       "      <td>...</td>\n",
       "      <td>...</td>\n",
       "      <td>...</td>\n",
       "    </tr>\n",
       "    <tr>\n",
       "      <th>345</th>\n",
       "      <td>75</td>\n",
       "      <td>89</td>\n",
       "      <td>73</td>\n",
       "      <td>72</td>\n",
       "      <td>77</td>\n",
       "      <td>72</td>\n",
       "      <td>79</td>\n",
       "      <td>75</td>\n",
       "      <td>72</td>\n",
       "      <td>72</td>\n",
       "      <td>73</td>\n",
       "      <td>76</td>\n",
       "      <td>75</td>\n",
       "      <td>84</td>\n",
       "      <td>76</td>\n",
       "      <td>76</td>\n",
       "      <td>75</td>\n",
       "      <td>78</td>\n",
       "      <td>77</td>\n",
       "      <td>77</td>\n",
       "      <td>72</td>\n",
       "      <td>74</td>\n",
       "      <td>w_away</td>\n",
       "    </tr>\n",
       "    <tr>\n",
       "      <th>346</th>\n",
       "      <td>90</td>\n",
       "      <td>85</td>\n",
       "      <td>88</td>\n",
       "      <td>86</td>\n",
       "      <td>84</td>\n",
       "      <td>82</td>\n",
       "      <td>88</td>\n",
       "      <td>81</td>\n",
       "      <td>88</td>\n",
       "      <td>83</td>\n",
       "      <td>82</td>\n",
       "      <td>84</td>\n",
       "      <td>82</td>\n",
       "      <td>84</td>\n",
       "      <td>81</td>\n",
       "      <td>76</td>\n",
       "      <td>78</td>\n",
       "      <td>83</td>\n",
       "      <td>82</td>\n",
       "      <td>78</td>\n",
       "      <td>83</td>\n",
       "      <td>79</td>\n",
       "      <td>w_home</td>\n",
       "    </tr>\n",
       "    <tr>\n",
       "      <th>348</th>\n",
       "      <td>81</td>\n",
       "      <td>75</td>\n",
       "      <td>76</td>\n",
       "      <td>71</td>\n",
       "      <td>76</td>\n",
       "      <td>77</td>\n",
       "      <td>79</td>\n",
       "      <td>73</td>\n",
       "      <td>73</td>\n",
       "      <td>75</td>\n",
       "      <td>75</td>\n",
       "      <td>89</td>\n",
       "      <td>86</td>\n",
       "      <td>83</td>\n",
       "      <td>84</td>\n",
       "      <td>84</td>\n",
       "      <td>85</td>\n",
       "      <td>84</td>\n",
       "      <td>83</td>\n",
       "      <td>82</td>\n",
       "      <td>87</td>\n",
       "      <td>82</td>\n",
       "      <td>w_away</td>\n",
       "    </tr>\n",
       "    <tr>\n",
       "      <th>349</th>\n",
       "      <td>91</td>\n",
       "      <td>79</td>\n",
       "      <td>83</td>\n",
       "      <td>78</td>\n",
       "      <td>74</td>\n",
       "      <td>74</td>\n",
       "      <td>76</td>\n",
       "      <td>75</td>\n",
       "      <td>73</td>\n",
       "      <td>79</td>\n",
       "      <td>86</td>\n",
       "      <td>86</td>\n",
       "      <td>91</td>\n",
       "      <td>84</td>\n",
       "      <td>81</td>\n",
       "      <td>84</td>\n",
       "      <td>84</td>\n",
       "      <td>83</td>\n",
       "      <td>81</td>\n",
       "      <td>85</td>\n",
       "      <td>79</td>\n",
       "      <td>84</td>\n",
       "      <td>w_away</td>\n",
       "    </tr>\n",
       "    <tr>\n",
       "      <th>350</th>\n",
       "      <td>75</td>\n",
       "      <td>73</td>\n",
       "      <td>72</td>\n",
       "      <td>79</td>\n",
       "      <td>76</td>\n",
       "      <td>69</td>\n",
       "      <td>71</td>\n",
       "      <td>67</td>\n",
       "      <td>63</td>\n",
       "      <td>65</td>\n",
       "      <td>60</td>\n",
       "      <td>91</td>\n",
       "      <td>91</td>\n",
       "      <td>89</td>\n",
       "      <td>85</td>\n",
       "      <td>86</td>\n",
       "      <td>86</td>\n",
       "      <td>84</td>\n",
       "      <td>84</td>\n",
       "      <td>85</td>\n",
       "      <td>84</td>\n",
       "      <td>87</td>\n",
       "      <td>w_home</td>\n",
       "    </tr>\n",
       "  </tbody>\n",
       "</table>\n",
       "<p>347 rows × 23 columns</p>\n",
       "</div>"
      ],
      "text/plain": [
       "     ST1_x  ST2_x  CM1_x  CM2_x  LM_x  RM_x  CB1_x  CB2_x  LB_x  RB_x  GK_x  \\\n",
       "0       68     74     78     77    74    71     75     71    70    68    68   \n",
       "1       87     67     77     74    68    70     72     70    69    69    70   \n",
       "2       79     79     77     82    74    82     83     78    78    78    73   \n",
       "3       75     82     73     77    71    74     73     70    72    69    74   \n",
       "4       68     74     78     77    74    71     75     71    70    68    68   \n",
       "..     ...    ...    ...    ...   ...   ...    ...    ...   ...   ...   ...   \n",
       "345     75     89     73     72    77    72     79     75    72    72    73   \n",
       "346     90     85     88     86    84    82     88     81    88    83    82   \n",
       "348     81     75     76     71    76    77     79     73    73    75    75   \n",
       "349     91     79     83     78    74    74     76     75    73    79    86   \n",
       "350     75     73     72     79    76    69     71     67    63    65    60   \n",
       "\n",
       "     ST1_y  ST2_y  CM1_y  CM2_y  LM_y  RM_y  CB1_y  CB2_y  LB_y  RB_y  GK_y  \\\n",
       "0       81     78     75     77    73    73     83     78    78    77    81   \n",
       "1       81     78     75     77    73    73     83     78    78    77    81   \n",
       "2       81     78     75     77    73    73     83     78    78    77    81   \n",
       "3       81     78     75     77    73    73     83     78    78    77    81   \n",
       "4       73     73     79     73    74    73     78     75    72    72    55   \n",
       "..     ...    ...    ...    ...   ...   ...    ...    ...   ...   ...   ...   \n",
       "345     76     75     84     76    76    75     78     77    77    72    74   \n",
       "346     84     82     84     81    76    78     83     82    78    83    79   \n",
       "348     89     86     83     84    84    85     84     83    82    87    82   \n",
       "349     86     91     84     81    84    84     83     81    85    79    84   \n",
       "350     91     91     89     85    86    86     84     84    85    84    87   \n",
       "\n",
       "     Result  \n",
       "0      draw  \n",
       "1      draw  \n",
       "2      draw  \n",
       "3    w_away  \n",
       "4    w_home  \n",
       "..      ...  \n",
       "345  w_away  \n",
       "346  w_home  \n",
       "348  w_away  \n",
       "349  w_away  \n",
       "350  w_home  \n",
       "\n",
       "[347 rows x 23 columns]"
      ]
     },
     "execution_count": 20,
     "metadata": {},
     "output_type": "execute_result"
    }
   ],
   "source": [
    "data_full[\"Result\"] = data_full.apply(get_result, axis=1)\n",
    "data_full.drop([\"home_score\", \"away_score\"], axis=1, inplace=True)\n",
    "data_full"
   ]
  },
  {
   "attachments": {},
   "cell_type": "markdown",
   "metadata": {},
   "source": [
    "# Train algorithm (classification)"
   ]
  },
  {
   "cell_type": "code",
   "execution_count": 21,
   "metadata": {},
   "outputs": [],
   "source": [
    "from sklearn.model_selection import train_test_split\n",
    "from sklearn.linear_model import LogisticRegression"
   ]
  },
  {
   "cell_type": "code",
   "execution_count": 22,
   "metadata": {},
   "outputs": [],
   "source": [
    "X_train, X_test, Y_train, Y_test = train_test_split(data_full.drop(\"Result\", axis=1), data_full[\"Result\"], test_size=0.2)"
   ]
  },
  {
   "cell_type": "code",
   "execution_count": 23,
   "metadata": {},
   "outputs": [
    {
     "data": {
      "text/plain": [
       "(0.6101083032490975, 0.5285714285714286)"
      ]
     },
     "execution_count": 23,
     "metadata": {},
     "output_type": "execute_result"
    }
   ],
   "source": [
    "# We can change the multi_class\n",
    "model = LogisticRegression(multi_class=\"multinomial\", max_iter=5000)\n",
    "model.fit(X_train, Y_train)\n",
    "model.score(X_train, Y_train), model.score(X_test, Y_test)"
   ]
  },
  {
   "cell_type": "code",
   "execution_count": 24,
   "metadata": {},
   "outputs": [],
   "source": [
    "from lazypredict.Supervised import LazyClassifier"
   ]
  },
  {
   "cell_type": "code",
   "execution_count": 25,
   "metadata": {},
   "outputs": [
    {
     "name": "stderr",
     "output_type": "stream",
     "text": [
      "100%|██████████| 29/29 [00:04<00:00,  6.62it/s]\n"
     ]
    },
    {
     "data": {
      "text/html": [
       "<div>\n",
       "<style scoped>\n",
       "    .dataframe tbody tr th:only-of-type {\n",
       "        vertical-align: middle;\n",
       "    }\n",
       "\n",
       "    .dataframe tbody tr th {\n",
       "        vertical-align: top;\n",
       "    }\n",
       "\n",
       "    .dataframe thead th {\n",
       "        text-align: right;\n",
       "    }\n",
       "</style>\n",
       "<table border=\"1\" class=\"dataframe\">\n",
       "  <thead>\n",
       "    <tr style=\"text-align: right;\">\n",
       "      <th></th>\n",
       "      <th>Accuracy</th>\n",
       "      <th>Balanced Accuracy</th>\n",
       "      <th>ROC AUC</th>\n",
       "      <th>F1 Score</th>\n",
       "      <th>Time Taken</th>\n",
       "    </tr>\n",
       "    <tr>\n",
       "      <th>Model</th>\n",
       "      <th></th>\n",
       "      <th></th>\n",
       "      <th></th>\n",
       "      <th></th>\n",
       "      <th></th>\n",
       "    </tr>\n",
       "  </thead>\n",
       "  <tbody>\n",
       "    <tr>\n",
       "      <th>SVC</th>\n",
       "      <td>0.67</td>\n",
       "      <td>0.55</td>\n",
       "      <td>None</td>\n",
       "      <td>0.60</td>\n",
       "      <td>0.06</td>\n",
       "    </tr>\n",
       "    <tr>\n",
       "      <th>GaussianNB</th>\n",
       "      <td>0.63</td>\n",
       "      <td>0.58</td>\n",
       "      <td>None</td>\n",
       "      <td>0.63</td>\n",
       "      <td>0.03</td>\n",
       "    </tr>\n",
       "    <tr>\n",
       "      <th>NearestCentroid</th>\n",
       "      <td>0.60</td>\n",
       "      <td>0.53</td>\n",
       "      <td>None</td>\n",
       "      <td>0.61</td>\n",
       "      <td>0.03</td>\n",
       "    </tr>\n",
       "    <tr>\n",
       "      <th>CalibratedClassifierCV</th>\n",
       "      <td>0.60</td>\n",
       "      <td>0.51</td>\n",
       "      <td>None</td>\n",
       "      <td>0.56</td>\n",
       "      <td>0.97</td>\n",
       "    </tr>\n",
       "    <tr>\n",
       "      <th>KNeighborsClassifier</th>\n",
       "      <td>0.59</td>\n",
       "      <td>0.55</td>\n",
       "      <td>None</td>\n",
       "      <td>0.60</td>\n",
       "      <td>0.22</td>\n",
       "    </tr>\n",
       "    <tr>\n",
       "      <th>RandomForestClassifier</th>\n",
       "      <td>0.59</td>\n",
       "      <td>0.54</td>\n",
       "      <td>None</td>\n",
       "      <td>0.60</td>\n",
       "      <td>0.54</td>\n",
       "    </tr>\n",
       "    <tr>\n",
       "      <th>BernoulliNB</th>\n",
       "      <td>0.59</td>\n",
       "      <td>0.51</td>\n",
       "      <td>None</td>\n",
       "      <td>0.59</td>\n",
       "      <td>0.04</td>\n",
       "    </tr>\n",
       "    <tr>\n",
       "      <th>ExtraTreesClassifier</th>\n",
       "      <td>0.57</td>\n",
       "      <td>0.52</td>\n",
       "      <td>None</td>\n",
       "      <td>0.58</td>\n",
       "      <td>0.58</td>\n",
       "    </tr>\n",
       "    <tr>\n",
       "      <th>RidgeClassifierCV</th>\n",
       "      <td>0.57</td>\n",
       "      <td>0.50</td>\n",
       "      <td>None</td>\n",
       "      <td>0.56</td>\n",
       "      <td>0.04</td>\n",
       "    </tr>\n",
       "    <tr>\n",
       "      <th>LinearSVC</th>\n",
       "      <td>0.56</td>\n",
       "      <td>0.50</td>\n",
       "      <td>None</td>\n",
       "      <td>0.56</td>\n",
       "      <td>0.25</td>\n",
       "    </tr>\n",
       "    <tr>\n",
       "      <th>SGDClassifier</th>\n",
       "      <td>0.54</td>\n",
       "      <td>0.47</td>\n",
       "      <td>None</td>\n",
       "      <td>0.55</td>\n",
       "      <td>0.05</td>\n",
       "    </tr>\n",
       "    <tr>\n",
       "      <th>NuSVC</th>\n",
       "      <td>0.54</td>\n",
       "      <td>0.50</td>\n",
       "      <td>None</td>\n",
       "      <td>0.55</td>\n",
       "      <td>0.05</td>\n",
       "    </tr>\n",
       "    <tr>\n",
       "      <th>RidgeClassifier</th>\n",
       "      <td>0.54</td>\n",
       "      <td>0.47</td>\n",
       "      <td>None</td>\n",
       "      <td>0.54</td>\n",
       "      <td>0.04</td>\n",
       "    </tr>\n",
       "    <tr>\n",
       "      <th>LogisticRegression</th>\n",
       "      <td>0.53</td>\n",
       "      <td>0.47</td>\n",
       "      <td>None</td>\n",
       "      <td>0.53</td>\n",
       "      <td>0.06</td>\n",
       "    </tr>\n",
       "    <tr>\n",
       "      <th>LinearDiscriminantAnalysis</th>\n",
       "      <td>0.53</td>\n",
       "      <td>0.47</td>\n",
       "      <td>None</td>\n",
       "      <td>0.54</td>\n",
       "      <td>0.08</td>\n",
       "    </tr>\n",
       "    <tr>\n",
       "      <th>LGBMClassifier</th>\n",
       "      <td>0.53</td>\n",
       "      <td>0.49</td>\n",
       "      <td>None</td>\n",
       "      <td>0.54</td>\n",
       "      <td>0.33</td>\n",
       "    </tr>\n",
       "    <tr>\n",
       "      <th>AdaBoostClassifier</th>\n",
       "      <td>0.53</td>\n",
       "      <td>0.50</td>\n",
       "      <td>None</td>\n",
       "      <td>0.53</td>\n",
       "      <td>0.46</td>\n",
       "    </tr>\n",
       "    <tr>\n",
       "      <th>LabelSpreading</th>\n",
       "      <td>0.50</td>\n",
       "      <td>0.47</td>\n",
       "      <td>None</td>\n",
       "      <td>0.51</td>\n",
       "      <td>0.06</td>\n",
       "    </tr>\n",
       "    <tr>\n",
       "      <th>LabelPropagation</th>\n",
       "      <td>0.50</td>\n",
       "      <td>0.47</td>\n",
       "      <td>None</td>\n",
       "      <td>0.51</td>\n",
       "      <td>0.06</td>\n",
       "    </tr>\n",
       "    <tr>\n",
       "      <th>QuadraticDiscriminantAnalysis</th>\n",
       "      <td>0.47</td>\n",
       "      <td>0.44</td>\n",
       "      <td>None</td>\n",
       "      <td>0.48</td>\n",
       "      <td>0.05</td>\n",
       "    </tr>\n",
       "    <tr>\n",
       "      <th>BaggingClassifier</th>\n",
       "      <td>0.46</td>\n",
       "      <td>0.46</td>\n",
       "      <td>None</td>\n",
       "      <td>0.48</td>\n",
       "      <td>0.13</td>\n",
       "    </tr>\n",
       "    <tr>\n",
       "      <th>DecisionTreeClassifier</th>\n",
       "      <td>0.40</td>\n",
       "      <td>0.40</td>\n",
       "      <td>None</td>\n",
       "      <td>0.41</td>\n",
       "      <td>0.04</td>\n",
       "    </tr>\n",
       "    <tr>\n",
       "      <th>DummyClassifier</th>\n",
       "      <td>0.40</td>\n",
       "      <td>0.33</td>\n",
       "      <td>None</td>\n",
       "      <td>0.23</td>\n",
       "      <td>0.03</td>\n",
       "    </tr>\n",
       "    <tr>\n",
       "      <th>ExtraTreeClassifier</th>\n",
       "      <td>0.37</td>\n",
       "      <td>0.35</td>\n",
       "      <td>None</td>\n",
       "      <td>0.38</td>\n",
       "      <td>0.03</td>\n",
       "    </tr>\n",
       "    <tr>\n",
       "      <th>PassiveAggressiveClassifier</th>\n",
       "      <td>0.36</td>\n",
       "      <td>0.32</td>\n",
       "      <td>None</td>\n",
       "      <td>0.37</td>\n",
       "      <td>0.03</td>\n",
       "    </tr>\n",
       "    <tr>\n",
       "      <th>Perceptron</th>\n",
       "      <td>0.33</td>\n",
       "      <td>0.30</td>\n",
       "      <td>None</td>\n",
       "      <td>0.31</td>\n",
       "      <td>0.04</td>\n",
       "    </tr>\n",
       "  </tbody>\n",
       "</table>\n",
       "</div>"
      ],
      "text/plain": [
       "                               Accuracy  Balanced Accuracy ROC AUC  F1 Score  \\\n",
       "Model                                                                          \n",
       "SVC                                0.67               0.55    None      0.60   \n",
       "GaussianNB                         0.63               0.58    None      0.63   \n",
       "NearestCentroid                    0.60               0.53    None      0.61   \n",
       "CalibratedClassifierCV             0.60               0.51    None      0.56   \n",
       "KNeighborsClassifier               0.59               0.55    None      0.60   \n",
       "RandomForestClassifier             0.59               0.54    None      0.60   \n",
       "BernoulliNB                        0.59               0.51    None      0.59   \n",
       "ExtraTreesClassifier               0.57               0.52    None      0.58   \n",
       "RidgeClassifierCV                  0.57               0.50    None      0.56   \n",
       "LinearSVC                          0.56               0.50    None      0.56   \n",
       "SGDClassifier                      0.54               0.47    None      0.55   \n",
       "NuSVC                              0.54               0.50    None      0.55   \n",
       "RidgeClassifier                    0.54               0.47    None      0.54   \n",
       "LogisticRegression                 0.53               0.47    None      0.53   \n",
       "LinearDiscriminantAnalysis         0.53               0.47    None      0.54   \n",
       "LGBMClassifier                     0.53               0.49    None      0.54   \n",
       "AdaBoostClassifier                 0.53               0.50    None      0.53   \n",
       "LabelSpreading                     0.50               0.47    None      0.51   \n",
       "LabelPropagation                   0.50               0.47    None      0.51   \n",
       "QuadraticDiscriminantAnalysis      0.47               0.44    None      0.48   \n",
       "BaggingClassifier                  0.46               0.46    None      0.48   \n",
       "DecisionTreeClassifier             0.40               0.40    None      0.41   \n",
       "DummyClassifier                    0.40               0.33    None      0.23   \n",
       "ExtraTreeClassifier                0.37               0.35    None      0.38   \n",
       "PassiveAggressiveClassifier        0.36               0.32    None      0.37   \n",
       "Perceptron                         0.33               0.30    None      0.31   \n",
       "\n",
       "                               Time Taken  \n",
       "Model                                      \n",
       "SVC                                  0.06  \n",
       "GaussianNB                           0.03  \n",
       "NearestCentroid                      0.03  \n",
       "CalibratedClassifierCV               0.97  \n",
       "KNeighborsClassifier                 0.22  \n",
       "RandomForestClassifier               0.54  \n",
       "BernoulliNB                          0.04  \n",
       "ExtraTreesClassifier                 0.58  \n",
       "RidgeClassifierCV                    0.04  \n",
       "LinearSVC                            0.25  \n",
       "SGDClassifier                        0.05  \n",
       "NuSVC                                0.05  \n",
       "RidgeClassifier                      0.04  \n",
       "LogisticRegression                   0.06  \n",
       "LinearDiscriminantAnalysis           0.08  \n",
       "LGBMClassifier                       0.33  \n",
       "AdaBoostClassifier                   0.46  \n",
       "LabelSpreading                       0.06  \n",
       "LabelPropagation                     0.06  \n",
       "QuadraticDiscriminantAnalysis        0.05  \n",
       "BaggingClassifier                    0.13  \n",
       "DecisionTreeClassifier               0.04  \n",
       "DummyClassifier                      0.03  \n",
       "ExtraTreeClassifier                  0.03  \n",
       "PassiveAggressiveClassifier          0.03  \n",
       "Perceptron                           0.04  "
      ]
     },
     "execution_count": 25,
     "metadata": {},
     "output_type": "execute_result"
    }
   ],
   "source": [
    "clf = LazyClassifier(verbose=0,ignore_warnings=True, custom_metric=None)\n",
    "models,predictions = clf.fit(X_train, X_test, Y_train, Y_test)\n",
    "models.sort_values(\"Accuracy\", ascending=False)"
   ]
  },
  {
   "cell_type": "code",
   "execution_count": 26,
   "metadata": {},
   "outputs": [],
   "source": [
    "# How to use LazyPredict\n",
    "# \n",
    "#from lazypredict.Supervised import LazyClassifier\n",
    "# from sklearn.datasets import load_breast_cancer\n",
    "# from sklearn.model_selection import train_test_split\n",
    "# data = load_breast_cancer()\n",
    "# X = data.data\n",
    "# y= data.target\n",
    "# X_train, X_test, y_train, y_test = train_test_split(X, y,test_size=.5,random_state =123)\n",
    "# clf = LazyClassifier(verbose=0,ignore_warnings=True, custom_metric=None)\n",
    "# models,predictions = clf.fit(X_train, X_test, y_train, y_test)\n",
    "# models"
   ]
  },
  {
   "attachments": {},
   "cell_type": "markdown",
   "metadata": {},
   "source": [
    "# 2023's World cup prediction (Classification)"
   ]
  },
  {
   "cell_type": "code",
   "execution_count": 28,
   "metadata": {},
   "outputs": [],
   "source": [
    "def predict_game(team_home, team_away, year, model, version=\"Classification\", display=False):\n",
    "    if display:\n",
    "        x = pd.merge(get_players_team(team_home, data_all_players, year=year, display=display, version=\"Nationality\"), get_players_team(team_away, data_all_players, year=year, display=display, version=\"Nationality\"), on=\"Year\")\n",
    "        x = x.drop([\"Year\", \"Team_x\", \"Team_y\"], axis=1)\n",
    "    else:\n",
    "        x = pd.merge(data_rosters[data_rosters[\"Team_year\"] == f\"{team_home}_{year}\"], data_rosters[data_rosters[\"Team_year\"] == f\"{team_away}_{year}\"], on=\"Year\")\n",
    "        x = x.drop([\"Year\", \"Team_x\", \"Team_y\", \"Team_year_x\", \"Team_year_y\"], axis=1)\n",
    "\n",
    "    if display:\n",
    "        print(['draw', 'w_away', 'w_home'])\n",
    "\n",
    "    \n",
    "    if version == \"Regression\":\n",
    "        pred = model.predict(x).clip(0, np.infty)[0]\n",
    "        home_goals = np.random.poisson(lam=pred[0], size=1000)\n",
    "        away_goals = np.random.poisson(lam=pred[1], size=1000)\n",
    "        proba_predictions = (home_goals == away_goals).mean(), (home_goals < away_goals).mean(), (home_goals > away_goals).mean()\n",
    "        result = ['draw', 'w_away', 'w_home'][np.argmax(proba_predictions)]\n",
    "        if display:\n",
    "            proba_predictions\n",
    "        return result, proba_predictions\n",
    "    \n",
    "    else:\n",
    "        if display:\n",
    "            print(model.predict_proba(x)[0])\n",
    "        return model.predict(x), model.predict_proba(x)[0]"
   ]
  },
  {
   "cell_type": "code",
   "execution_count": 29,
   "metadata": {},
   "outputs": [],
   "source": [
    "dict_groups = {\n",
    "    \"A\": [\"Netherlands\", \"Senegal\", \"Ecuador\", \"Qatar\"],\n",
    "    \"B\": [\"England\", \"Iran\", \"United States\", \"Wales\"],\n",
    "    \"C\": [\"Argentina\", \"Saudi Arabia\", \"Mexico\", \"Poland\"],\n",
    "    \"D\": [\"France\", \"Australia\", \"Tunisia\", \"Denmark\"],\n",
    "    \"E\": [\"Spain\", \"Costa Rica\", \"Germany\", \"Japan\"],\n",
    "    \"F\": [\"Belgium\", \"Canada\", \"Morocco\", \"Croatia\"],\n",
    "    \"G\": [\"Switzerland\", \"Cameroon\", \"Brazil\", \"Serbia\"],\n",
    "    \"H\": [\"Uruguay\", \"Korea Republic\", \"Portugal\", \"Ghana\"]\n",
    "    }\n",
    "dict_knockouts ={\n",
    "    \"M1\": [\"A1\", \"B2\"],\n",
    "    \"M2\": [\"C1\", \"D2\"],\n",
    "    \"M3\": [\"E1\", \"F2\"],\n",
    "    \"M4\": [\"G1\", \"H2\"],\n",
    "    \"M5\": [\"B1\", \"A2\"],\n",
    "    \"M6\": [\"D1\", \"C2\"],\n",
    "    \"M7\": [\"F1\", \"E2\"],\n",
    "    \"M8\": [\"H1\", \"G2\"],\n",
    "    \"QF1\": [\"M1\", \"M2\"],\n",
    "    \"QF2\": [\"M3\", \"M4\"],\n",
    "    \"QF3\": [\"M5\", \"M6\"],\n",
    "    \"QF4\": [\"M7\", \"M8\"],\n",
    "    \"SF1\": [\"QF1\", \"QF2\"],\n",
    "    \"SF2\": [\"QF3\", \"QF4\"],\n",
    "    \"F\": [\"SF1\", \"SF2\"],\n",
    "}"
   ]
  },
  {
   "cell_type": "code",
   "execution_count": 30,
   "metadata": {},
   "outputs": [],
   "source": [
    "def predict_group(group_number, dict_groups, model, version=\"Classification\"):\n",
    "    group = dict_groups[group_number]\n",
    "    nb_teams_in_group = len(group)\n",
    "\n",
    "    group_result = pd.DataFrame({\"points\":[0]*nb_teams_in_group, \"proba\":[0.0]*nb_teams_in_group}, index=group)\n",
    "    for team_home_id in range(nb_teams_in_group):\n",
    "        for team_away_id in range(team_home_id+1, nb_teams_in_group):\n",
    "            result = predict_game(group[team_home_id], group[team_away_id], 23, model, version=version)\n",
    "            # print(f\"{group[team_home_id]} {group[team_away_id]} - {result}\")\n",
    "            group_result.loc[group[team_home_id], \"proba\"] += result[1][2]\n",
    "            group_result.loc[group[team_away_id], \"proba\"] += result[1][1]\n",
    "            if result[0] == \"w_home\":\n",
    "                group_result.loc[group[team_home_id], \"points\"] += 3\n",
    "            elif result[0] == \"w_away\":\n",
    "                group_result.loc[group[team_away_id], \"points\"] += 3\n",
    "            else:\n",
    "                group_result.loc[group[team_home_id], \"points\"] += 1\n",
    "                group_result.loc[group[team_away_id], \"points\"] += 1\n",
    "    return group_result.sort_values([\"points\", \"proba\"], ascending=False)"
   ]
  },
  {
   "cell_type": "code",
   "execution_count": 31,
   "metadata": {},
   "outputs": [],
   "source": [
    "def predict_cup(dict_groups, dict_knockouts, model, version=\"Classification\", display=True):\n",
    "    all_results = {}\n",
    "    for group_number, group in dict_groups.items():\n",
    "        result = predict_group(group_number, dict_groups, model, version=version)\n",
    "        all_results[f\"{group_number}1\"] = result.iloc[0].name\n",
    "        all_results[f\"{group_number}2\"] = result.iloc[1].name\n",
    "        if display:\n",
    "            print(result)\n",
    "\n",
    "    for game, teams_playing in dict_knockouts.items():\n",
    "        if display:\n",
    "            print(game, end= \": \")\n",
    "            print(all_results[teams_playing[0]],\" vs \", all_results[teams_playing[1]], end=\": \")\n",
    "        result = predict_game(all_results[teams_playing[0]], all_results[teams_playing[1]], 23, model, version=version)\n",
    "        if result[1][2] > result[1][1]:\n",
    "            all_results[game] = all_results[teams_playing[0]]\n",
    "            if display:\n",
    "                print(\"home win\")\n",
    "        else:\n",
    "            all_results[game] = all_results[teams_playing[1]]\n",
    "            if display:\n",
    "                print(\"away win\")\n",
    "    \n",
    "    return all_results"
   ]
  },
  {
   "cell_type": "code",
   "execution_count": 55,
   "metadata": {},
   "outputs": [],
   "source": [
    "def stats_on_many_models(nb_iterations, data_full, dict_groups, dict_knockouts, version):\n",
    "    # version = \"Classification\" or \"Regression\"\n",
    "    stats = {}\n",
    "    for i in range(nb_iterations):\n",
    "        if version == \"Classification\":\n",
    "            X_train, X_test, Y_train, Y_test = train_test_split(data_full.drop(\"Result\", axis=1), data_full[\"Result\"], test_size=0.2)\n",
    "            model = LogisticRegression(multi_class=\"multinomial\", max_iter=5000)\n",
    "        elif version == \"Regression\":\n",
    "            X_train, X_test, Y_train, Y_test = train_test_split(data_full.drop(['home_score', 'away_score'], axis=1), data_full[['home_score', 'away_score']], test_size=0.2)\n",
    "            model = Ridge(alpha=1)\n",
    "        model.fit(X_train, Y_train)\n",
    "        winner = predict_cup(dict_groups, dict_knockouts, model, version=version, display=False)[\"F\"]\n",
    "        if winner in list(stats.keys()):\n",
    "            stats[winner] += 1/nb_iterations\n",
    "        else:\n",
    "            stats[winner] = 1/nb_iterations\n",
    "    return dict(sorted(stats.items(), key=lambda item: item[1]))"
   ]
  },
  {
   "cell_type": "code",
   "execution_count": 33,
   "metadata": {},
   "outputs": [],
   "source": [
    "stats = stats_on_many_models(200, data_full, dict_groups, dict_knockouts, version=\"Classification\")"
   ]
  },
  {
   "cell_type": "code",
   "execution_count": 51,
   "metadata": {},
   "outputs": [
    {
     "data": {
      "text/plain": [
       "Text(0, 0.5, 'Probability of winning the World Cup')"
      ]
     },
     "execution_count": 51,
     "metadata": {},
     "output_type": "execute_result"
    },
    {
     "data": {
      "image/png": "[encoded data removed]",
      "text/plain": [
       "<Figure size 900x500 with 1 Axes>"
      ]
     },
     "metadata": {},
     "output_type": "display_data"
    }
   ],
   "source": [
    "plt.figure(figsize=(9,5))\n",
    "plt.bar(stats.keys(), stats.values())\n",
    "plt.ylabel(\"Probability of winning the World Cup\")"
   ]
  },
  {
   "cell_type": "code",
   "execution_count": 35,
   "metadata": {},
   "outputs": [
    {
     "name": "stdout",
     "output_type": "stream",
     "text": [
      "             points  proba\n",
      "Netherlands       7   1.64\n",
      "Senegal           7   1.07\n",
      "Qatar             1   0.66\n",
      "Ecuador           1   0.44\n",
      "               points  proba\n",
      "England             9   2.22\n",
      "Wales               6   1.41\n",
      "United States       3   1.26\n",
      "Iran                0   0.17\n",
      "              points  proba\n",
      "Argentina          7   1.82\n",
      "Mexico             7   1.13\n",
      "Saudi Arabia       3   0.85\n",
      "Poland             0   0.68\n",
      "           points  proba\n",
      "France          9   2.02\n",
      "Denmark         4   0.74\n",
      "Australia       3   1.03\n",
      "Tunisia         1   0.49\n",
      "            points  proba\n",
      "Germany          7   1.80\n",
      "Spain            7   1.36\n",
      "Japan            3   1.01\n",
      "Costa Rica       0   0.49\n",
      "         points  proba\n",
      "Belgium       9   1.37\n",
      "Morocco       6   1.91\n",
      "Croatia       3   1.35\n",
      "Canada        0   0.13\n",
      "             points  proba\n",
      "Brazil            7   1.53\n",
      "Serbia            6   1.32\n",
      "Switzerland       3   0.73\n",
      "Cameroon          1   0.64\n",
      "                points  proba\n",
      "Korea Republic       7   1.73\n",
      "Portugal             4   1.32\n",
      "Uruguay              4   0.91\n",
      "Ghana                1   0.29\n",
      "M1: Netherlands  vs  Wales: home win\n",
      "M2: Argentina  vs  Denmark: home win\n",
      "M3: Germany  vs  Morocco: home win\n",
      "M4: Brazil  vs  Portugal: home win\n",
      "M5: England  vs  Senegal: home win\n",
      "M6: France  vs  Mexico: home win\n",
      "M7: Belgium  vs  Spain: away win\n",
      "M8: Korea Republic  vs  Serbia: home win\n",
      "QF1: Netherlands  vs  Argentina: away win\n",
      "QF2: Germany  vs  Brazil: away win\n",
      "QF3: England  vs  France: away win\n",
      "QF4: Spain  vs  Korea Republic: home win\n",
      "SF1: Argentina  vs  Brazil: away win\n",
      "SF2: France  vs  Spain: home win\n",
      "F: Brazil  vs  France: home win\n"
     ]
    },
    {
     "data": {
      "text/plain": [
       "{'A1': 'Netherlands',\n",
       " 'A2': 'Senegal',\n",
       " 'B1': 'England',\n",
       " 'B2': 'Wales',\n",
       " 'C1': 'Argentina',\n",
       " 'C2': 'Mexico',\n",
       " 'D1': 'France',\n",
       " 'D2': 'Denmark',\n",
       " 'E1': 'Germany',\n",
       " 'E2': 'Spain',\n",
       " 'F1': 'Belgium',\n",
       " 'F2': 'Morocco',\n",
       " 'G1': 'Brazil',\n",
       " 'G2': 'Serbia',\n",
       " 'H1': 'Korea Republic',\n",
       " 'H2': 'Portugal',\n",
       " 'M1': 'Netherlands',\n",
       " 'M2': 'Argentina',\n",
       " 'M3': 'Germany',\n",
       " 'M4': 'Brazil',\n",
       " 'M5': 'England',\n",
       " 'M6': 'France',\n",
       " 'M7': 'Spain',\n",
       " 'M8': 'Korea Republic',\n",
       " 'QF1': 'Argentina',\n",
       " 'QF2': 'Brazil',\n",
       " 'QF3': 'France',\n",
       " 'QF4': 'Spain',\n",
       " 'SF1': 'Brazil',\n",
       " 'SF2': 'France',\n",
       " 'F': 'Brazil'}"
      ]
     },
     "execution_count": 35,
     "metadata": {},
     "output_type": "execute_result"
    }
   ],
   "source": [
    "predict_cup(dict_groups, dict_knockouts, model)"
   ]
  },
  {
   "attachments": {},
   "cell_type": "markdown",
   "metadata": {},
   "source": [
    "# Prediction with Regression"
   ]
  },
  {
   "cell_type": "code",
   "execution_count": 36,
   "metadata": {},
   "outputs": [],
   "source": [
    "from sklearn.linear_model import Ridge\n",
    "from sklearn.model_selection import train_test_split"
   ]
  },
  {
   "cell_type": "code",
   "execution_count": 37,
   "metadata": {},
   "outputs": [],
   "source": [
    "data_full_reg = pd.merge(left=data_games, right=data_rosters, how='inner', left_on=\"home_team_year\", right_on=\"Team_year\")\n",
    "data_full_reg = pd.merge(left=data_full_reg, right=data_rosters, how='inner', left_on=\"away_team_year\", right_on=\"Team_year\")\n",
    "data_full_reg.drop([\"Year_x\", \"tournament\", \"Year_y\", \"home_team\", \"away_team\", \"home_team_year\", \"away_team_year\", \"Team_year_x\", \"Team_year_y\", \"Team_x\", \"Team_y\", \"Year\"], axis=1, inplace=True)\n",
    "data_full_reg = data_full_reg.dropna()"
   ]
  },
  {
   "cell_type": "code",
   "execution_count": 110,
   "metadata": {},
   "outputs": [
    {
     "name": "stdout",
     "output_type": "stream",
     "text": [
      "Accuracy : 0.6285714285714286\n"
     ]
    },
    {
     "data": {
      "text/plain": [
       "(home_score   0.97\n",
       " away_score   0.83\n",
       " dtype: float64,\n",
       " 0.053757397548988395)"
      ]
     },
     "execution_count": 110,
     "metadata": {},
     "output_type": "execute_result"
    }
   ],
   "source": [
    "X_train, X_test, Y_train, Y_test = train_test_split(data_full_reg.drop(['home_score', 'away_score'], axis=1), data_full_reg[['home_score', 'away_score']], test_size=0.2)\n",
    "\n",
    "LR = Ridge(alpha=1)\n",
    "\n",
    "LR.fit(X_train, Y_train)\n",
    "Y_pred = LR.predict(X_test)\n",
    "Y_pred = Y_pred.clip(0, np.infty)\n",
    "\n",
    "Y_test_results = Y_test.apply(get_result, axis=1)\n",
    "Y_pred_results = pd.DataFrame(Y_pred, columns=Y_test.columns, index=Y_test.index).apply(get_result, axis=1)\n",
    "print(\"Accuracy : \", end=\"\")\n",
    "print((Y_pred_results == Y_test_results).sum()/len(Y_test_results))\n",
    "np.sqrt(((Y_pred - Y_test)**2).mean()), LR.score(X_test, Y_test)"
   ]
  },
  {
   "cell_type": "code",
   "execution_count": 39,
   "metadata": {},
   "outputs": [
    {
     "data": {
      "text/html": [
       "<div>\n",
       "<style scoped>\n",
       "    .dataframe tbody tr th:only-of-type {\n",
       "        vertical-align: middle;\n",
       "    }\n",
       "\n",
       "    .dataframe tbody tr th {\n",
       "        vertical-align: top;\n",
       "    }\n",
       "\n",
       "    .dataframe thead th {\n",
       "        text-align: right;\n",
       "    }\n",
       "</style>\n",
       "<table border=\"1\" class=\"dataframe\">\n",
       "  <thead>\n",
       "    <tr style=\"text-align: right;\">\n",
       "      <th></th>\n",
       "      <th>0</th>\n",
       "      <th>1</th>\n",
       "      <th>2</th>\n",
       "      <th>3</th>\n",
       "    </tr>\n",
       "  </thead>\n",
       "  <tbody>\n",
       "    <tr>\n",
       "      <th>0</th>\n",
       "      <td>1.00</td>\n",
       "      <td>0.00</td>\n",
       "      <td>1.35</td>\n",
       "      <td>0.86</td>\n",
       "    </tr>\n",
       "    <tr>\n",
       "      <th>1</th>\n",
       "      <td>1.00</td>\n",
       "      <td>2.00</td>\n",
       "      <td>1.39</td>\n",
       "      <td>0.67</td>\n",
       "    </tr>\n",
       "    <tr>\n",
       "      <th>2</th>\n",
       "      <td>0.00</td>\n",
       "      <td>2.00</td>\n",
       "      <td>1.85</td>\n",
       "      <td>0.64</td>\n",
       "    </tr>\n",
       "    <tr>\n",
       "      <th>3</th>\n",
       "      <td>0.00</td>\n",
       "      <td>3.00</td>\n",
       "      <td>1.03</td>\n",
       "      <td>1.57</td>\n",
       "    </tr>\n",
       "    <tr>\n",
       "      <th>4</th>\n",
       "      <td>2.00</td>\n",
       "      <td>0.00</td>\n",
       "      <td>1.30</td>\n",
       "      <td>0.00</td>\n",
       "    </tr>\n",
       "  </tbody>\n",
       "</table>\n",
       "</div>"
      ],
      "text/plain": [
       "     0    1    2    3\n",
       "0 1.00 0.00 1.35 0.86\n",
       "1 1.00 2.00 1.39 0.67\n",
       "2 0.00 2.00 1.85 0.64\n",
       "3 0.00 3.00 1.03 1.57\n",
       "4 2.00 0.00 1.30 0.00"
      ]
     },
     "execution_count": 39,
     "metadata": {},
     "output_type": "execute_result"
    }
   ],
   "source": [
    "test = pd.DataFrame(np.concatenate([Y_test, Y_pred], axis=1)) # columns=['home_score', 'away_score', 'pred_home', 'pred_away'])\n",
    "test.head()"
   ]
  },
  {
   "cell_type": "code",
   "execution_count": 40,
   "metadata": {},
   "outputs": [
    {
     "name": "stdout",
     "output_type": "stream",
     "text": [
      "['draw', 'w_away', 'w_home']\n"
     ]
    },
    {
     "data": {
      "text/plain": [
       "(array(['w_home'], dtype=object), array([0.28773569, 0.28970021, 0.4225641 ]))"
      ]
     },
     "execution_count": 40,
     "metadata": {},
     "output_type": "execute_result"
    }
   ],
   "source": [
    "print(['draw', 'w_away', 'w_home'])\n",
    "predict_game(\"France\", \"England\", 23, model, version=\"Classification\", display=False)"
   ]
  },
  {
   "cell_type": "code",
   "execution_count": 60,
   "metadata": {},
   "outputs": [],
   "source": [
    "stats = stats_on_many_models(300, data_full_reg, dict_groups, dict_knockouts, version=\"Regression\")"
   ]
  },
  {
   "cell_type": "code",
   "execution_count": 62,
   "metadata": {},
   "outputs": [
    {
     "data": {
      "text/plain": [
       "Text(0, 0.5, 'Probability of winning the World Cup')"
      ]
     },
     "execution_count": 62,
     "metadata": {},
     "output_type": "execute_result"
    },
    {
     "data": {
      "image/png": "[encoded data removed]",
      "text/plain": [
       "<Figure size 900x500 with 1 Axes>"
      ]
     },
     "metadata": {},
     "output_type": "display_data"
    }
   ],
   "source": [
    "plt.figure(figsize=(9,5))\n",
    "plt.bar(stats.keys(), stats.values())\n",
    "plt.ylabel(\"Probability of winning the World Cup\")"
   ]
  },
  {
   "cell_type": "code",
   "execution_count": 111,
   "metadata": {},
   "outputs": [
    {
     "name": "stdout",
     "output_type": "stream",
     "text": [
      "             points  proba\n",
      "Netherlands       9   1.81\n",
      "Senegal           6   1.34\n",
      "Qatar             3   0.69\n",
      "Ecuador           0   0.68\n",
      "               points  proba\n",
      "England             9   2.07\n",
      "Wales               6   1.40\n",
      "United States       3   1.29\n",
      "Iran                0   0.15\n",
      "              points  proba\n",
      "Argentina          9   1.88\n",
      "Poland             6   1.27\n",
      "Mexico             3   1.38\n",
      "Saudi Arabia       0   0.21\n",
      "           points  proba\n",
      "France          9   2.20\n",
      "Denmark         6   1.27\n",
      "Australia       1   0.63\n",
      "Tunisia         1   0.45\n",
      "            points  proba\n",
      "Spain            9   2.05\n",
      "Germany          6   1.75\n",
      "Japan            3   0.96\n",
      "Costa Rica       0   0.14\n",
      "         points  proba\n",
      "Belgium       9   1.39\n",
      "Croatia       6   1.42\n",
      "Morocco       3   0.96\n",
      "Canada        0   0.68\n",
      "             points  proba\n",
      "Brazil            9   1.75\n",
      "Serbia            6   1.16\n",
      "Cameroon          1   0.62\n",
      "Switzerland       1   0.59\n",
      "                points  proba\n",
      "Portugal             9   1.86\n",
      "Uruguay              4   0.81\n",
      "Ghana                3   0.90\n",
      "Korea Republic       1   0.65\n",
      "M1: Netherlands  vs  Wales: home win\n",
      "M2: Argentina  vs  Denmark: home win\n",
      "M3: Spain  vs  Croatia: home win\n",
      "M4: Brazil  vs  Uruguay: home win\n",
      "M5: England  vs  Senegal: home win\n",
      "M6: France  vs  Poland: home win\n",
      "M7: Belgium  vs  Germany: away win\n",
      "M8: Portugal  vs  Serbia: home win\n",
      "QF1: Netherlands  vs  Argentina: away win\n",
      "QF2: Spain  vs  Brazil: home win\n",
      "QF3: England  vs  France: away win\n",
      "QF4: Germany  vs  Portugal: home win\n",
      "SF1: Argentina  vs  Spain: away win\n",
      "SF2: France  vs  Germany: home win\n",
      "F: Spain  vs  France: away win\n"
     ]
    },
    {
     "data": {
      "text/plain": [
       "{'A1': 'Netherlands',\n",
       " 'A2': 'Senegal',\n",
       " 'B1': 'England',\n",
       " 'B2': 'Wales',\n",
       " 'C1': 'Argentina',\n",
       " 'C2': 'Poland',\n",
       " 'D1': 'France',\n",
       " 'D2': 'Denmark',\n",
       " 'E1': 'Spain',\n",
       " 'E2': 'Germany',\n",
       " 'F1': 'Belgium',\n",
       " 'F2': 'Croatia',\n",
       " 'G1': 'Brazil',\n",
       " 'G2': 'Serbia',\n",
       " 'H1': 'Portugal',\n",
       " 'H2': 'Uruguay',\n",
       " 'M1': 'Netherlands',\n",
       " 'M2': 'Argentina',\n",
       " 'M3': 'Spain',\n",
       " 'M4': 'Brazil',\n",
       " 'M5': 'England',\n",
       " 'M6': 'France',\n",
       " 'M7': 'Germany',\n",
       " 'M8': 'Portugal',\n",
       " 'QF1': 'Argentina',\n",
       " 'QF2': 'Spain',\n",
       " 'QF3': 'France',\n",
       " 'QF4': 'Germany',\n",
       " 'SF1': 'Spain',\n",
       " 'SF2': 'France',\n",
       " 'F': 'France'}"
      ]
     },
     "execution_count": 111,
     "metadata": {},
     "output_type": "execute_result"
    }
   ],
   "source": [
    "predict_cup(dict_groups, dict_knockouts, LR, version=\"Regression\")"
   ]
  }
 ],
 "metadata": {
  "kernelspec": {
   "display_name": "Python 3.9.12 ('sdse')",
   "language": "python",
   "name": "python3"
  },
  "language_info": {
   "codemirror_mode": {
    "name": "ipython",
    "version": 3
   },
   "file_extension": ".py",
   "mimetype": "text/x-python",
   "name": "python",
   "nbconvert_exporter": "python",
   "pygments_lexer": "ipython3",
   "version": "3.9.12"
  },
  "orig_nbformat": 4,
  "vscode": {
   "interpreter": {
    "hash": "10dbac8e2f1d3ad375440ff5be0c06419f8430813158d2769e5aa9729a84ca05"
   }
  }
 },
 "nbformat": 4,
 "nbformat_minor": 2
}
