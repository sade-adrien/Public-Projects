{
 "cells": [
  {
   "cell_type": "markdown",
   "metadata": {
    "id": "ViPSJIpyEujL"
   },
   "source": [
    "# TP1 - Neural Networks from scratch"
   ]
  },
  {
   "cell_type": "markdown",
   "metadata": {
    "id": "DymwRxsvEujS"
   },
   "source": [
    "The architecture of this code is freely inspired from the torch and pytorch architectures, and some sample of code are re-used. It is however designed to be as concise as possible, not in any case for efficiency or flexibility (i.e. if you ever want to do Deep Learning out of this class, don't try to adapt this code, use an existing framework)."
   ]
  },
  {
   "cell_type": "markdown",
   "metadata": {
    "id": "1gwGq7aJGTON"
   },
   "source": [
    "Following code allows you to mount your drive in the Colab Virtual Machine in order to get access to the data (skipped if run locally)"
   ]
  },
  {
   "cell_type": "code",
   "execution_count": null,
   "metadata": {
    "colab": {
     "base_uri": "https://localhost:8080/"
    },
    "executionInfo": {
     "elapsed": 23400,
     "status": "ok",
     "timestamp": 1615219458072,
     "user": {
      "displayName": "adrien sade",
      "photoUrl": "https://lh3.googleusercontent.com/a-/AOh14Ghm5D63iKkW8NdwA1UpcPwbfm6I0MmL_Pgyl1o=s64",
      "userId": "09079267221407323456"
     },
     "user_tz": -60
    },
    "id": "Hnn475h17q-1",
    "outputId": "e183457f-cf64-4808-a084-24582663092c"
   },
   "outputs": [
    {
     "name": "stdout",
     "output_type": "stream",
     "text": [
      "Mounted at /content/gdrive\n",
      "/content/gdrive/My Drive/DEEPL/DEEPL_TP_1\n"
     ]
    }
   ],
   "source": [
    "try:\n",
    "  from google.colab import drive\n",
    "  drive.mount('/content/gdrive', force_remount=True)\n",
    "\n",
    "  FOLDERNAME = 'DEEPL_TP_1'\n",
    "  %cd /content/gdrive/My\\ Drive/DEEPL/$FOLDERNAME\n",
    "except ImportError:\n",
    "  pass"
   ]
  },
  {
   "cell_type": "markdown",
   "metadata": {
    "id": "MFiBRP_uEujT"
   },
   "source": [
    "## Part 0. A simple Multi-Layer Perceptron (MLP) implementation"
   ]
  },
  {
   "cell_type": "markdown",
   "metadata": {
    "id": "2J45-UyPEujT"
   },
   "source": [
    "As always some useful imports:"
   ]
  },
  {
   "cell_type": "code",
   "execution_count": null,
   "metadata": {
    "id": "UjDDa25AEujU"
   },
   "outputs": [],
   "source": [
    "import math\n",
    "import random\n",
    "import numpy as np\n",
    "import matplotlib.pyplot as plt \n",
    "plt.rcParams['image.cmap'] = 'gray' \n",
    "import scipy.ndimage as ndimage\n",
    "import scipy.optimize as optimize\n",
    "\n",
    "import os\n",
    "\n",
    "try:\n",
    "    # tqdm is a very useful library to monitor the progression of your loops\n",
    "    # (not necessary but handy)\n",
    "    from tqdm.notebook import tqdm\n",
    "except ImportError:\n",
    "    pass"
   ]
  },
  {
   "cell_type": "markdown",
   "metadata": {
    "id": "11dzaBJlEujV"
   },
   "source": [
    "We will consider a Neural Network as a modular architecture, all layer and loss being a `Module`. We define the `Linear`, `ReLU` layers, necessary to implement a MLP, as well as a simple 2-layer MLP and the least square loss function, `LeastSquareCriterion`."
   ]
  },
  {
   "cell_type": "code",
   "execution_count": null,
   "metadata": {
    "id": "OsCvYmyIEujV"
   },
   "outputs": [],
   "source": [
    "class Module(object):\n",
    "    def __init__(self):\n",
    "        self.gradInput = None \n",
    "        self.output = None\n",
    "        \n",
    "    def forward(self, *input):\n",
    "        \"\"\"\n",
    "        Defines the computation performed at every call.\n",
    "        Should be overriden by all subclasses.\n",
    "        \"\"\"\n",
    "        raise NotImplementedError\n",
    "        \n",
    "    def backward(self, *input):\n",
    "        \"\"\"\n",
    "        Defines the computation performed at every call.\n",
    "        Should be overriden by all subclasses.\n",
    "        \"\"\"\n",
    "        raise NotImplementedError\n",
    "\n",
    "\n",
    "class LeastSquareCriterion(Module):\n",
    "    \"\"\"\n",
    "    This implementation of the least square loss assumes that the data comes as a 2-dimensional array\n",
    "    of size (batch_size, num_classes) and the labels as a vector of size (num_classes) \n",
    "    \"\"\"\n",
    "    def __init__(self, num_classes=10):\n",
    "        super(LeastSquareCriterion, self).__init__()\n",
    "        self.num_classes = num_classes\n",
    "    \n",
    "    def forward(self, x, labels):\n",
    "        target = np.zeros([x.shape[0], self.num_classes])\n",
    "        for i in range(x.shape[0]):\n",
    "            target[i, labels[i]] = 1\n",
    "        self.output = np.sum((target-x)**2, axis=1)\n",
    "        return np.mean(self.output)\n",
    "    \n",
    "    def backward(self, x, labels):\n",
    "        self.gradInput = x\n",
    "        for i in range(x.shape[0]):\n",
    "            self.gradInput[i, labels[i]] = x[i, labels[i]]-1\n",
    "        return self.gradInput\n",
    "    \n",
    "\n",
    "class Linear(Module):\n",
    "    \"\"\"\n",
    "    The input is supposed to have two dimensions (batch_size, in_features)\n",
    "    \"\"\"\n",
    "    def __init__(self, in_features, out_features, bias=True):\n",
    "        super(Linear, self).__init__()\n",
    "        self.in_features = in_features\n",
    "        self.out_features = out_features\n",
    "        \n",
    "        self.weight = (\n",
    "            math.sqrt(1. / (out_features*in_features)) * \n",
    "            np.random.randn(out_features, in_features)\n",
    "        )\n",
    "        self.bias = np.zeros(out_features)\n",
    "        \n",
    "        self.gradWeight = None\n",
    "        self.gradBias = None\n",
    "\n",
    "    def forward(self, x):\n",
    "        self.output = np.dot(x, self.weight.transpose()) + self.bias[None, :]\n",
    "        return self.output\n",
    "    \n",
    "    def backward(self, x, gradOutput):\n",
    "        self.gradInput = np.dot(gradOutput, self.weight)\n",
    "        self.gradWeight = np.dot(gradOutput.transpose(), x)\n",
    "        self.gradBias = np.sum(gradOutput, axis=0)\n",
    "        return self.gradInput\n",
    "    \n",
    "    def gradientStep(self, lr):\n",
    "        self.weight = self.weight - lr*self.gradWeight\n",
    "        self.bias = self.bias - lr*self.gradBias\n",
    "        \n",
    "\n",
    "class ReLU(Module):\n",
    "    def __init__(self, bias=True):\n",
    "        super(ReLU, self).__init__()\n",
    "        \n",
    "    def forward(self, x):\n",
    "        self.output = x.clip(0)\n",
    "        return self.output\n",
    "    \n",
    "    def backward(self, x, gradOutput):\n",
    "        self.gradInput = (x>0) * gradOutput\n",
    "        return self.gradInput\n",
    "\n",
    "\n",
    "class SimpleMLP(Module):\n",
    "    \"\"\"\n",
    "    This class is a simple example of a neural network, composed of two\n",
    "    linear layers, with a ReLU non-linearity in the middle\n",
    "    \"\"\"\n",
    "    def __init__(self, in_dimension=784, num_classes=10):\n",
    "        super(SimpleMLP, self).__init__()\n",
    "        self.fc1 = Linear(in_dimension, 64)\n",
    "        self.relu1 = ReLU()\n",
    "        self.fc2 = Linear(64, num_classes)\n",
    "    \n",
    "    def forward(self, x):\n",
    "        x = self.fc1.forward(x)\n",
    "        x = self.relu1.forward(x)\n",
    "        x = self.fc2.forward(x)\n",
    "        return x\n",
    "    \n",
    "    def backward(self, x, gradient):\n",
    "        gradient = self.fc2.backward(self.relu1.output, gradient)\n",
    "        gradient = self.relu1.backward(self.fc1.output, gradient)\n",
    "        gradient = self.fc1.backward(x, gradient)\n",
    "        return gradient\n",
    "    \n",
    "    def gradientStep(self, lr):\n",
    "        self.fc2.gradientStep(lr)\n",
    "        self.fc1.gradientStep(lr)\n",
    "        return True"
   ]
  },
  {
   "cell_type": "markdown",
   "metadata": {
    "id": "ef7IJfflEujW"
   },
   "source": [
    "## Part I. Training a neural network"
   ]
  },
  {
   "cell_type": "markdown",
   "metadata": {
    "id": "Uwp1WeI0EujW"
   },
   "source": [
    "To train a network, we will need data. Download the Mini-MNIST data (~4Mo). It consists of 28×28 images (loaded as vectors of size 784) and the associated label for training and test sets."
   ]
  },
  {
   "cell_type": "code",
   "execution_count": null,
   "metadata": {
    "colab": {
     "base_uri": "https://localhost:8080/",
     "height": 282
    },
    "executionInfo": {
     "elapsed": 1007,
     "status": "ok",
     "timestamp": 1615229583965,
     "user": {
      "displayName": "adrien sade",
      "photoUrl": "https://lh3.googleusercontent.com/a-/AOh14Ghm5D63iKkW8NdwA1UpcPwbfm6I0MmL_Pgyl1o=s64",
      "userId": "09079267221407323456"
     },
     "user_tz": -60
    },
    "id": "ijq61MTZEujX",
    "outputId": "fa35ad88-5f6d-4a13-cbc2-85856d44a405"
   },
   "outputs": [
    {
     "name": "stdout",
     "output_type": "stream",
     "text": [
      "5\n"
     ]
    },
    {
     "data": {
      "image/png": "[encoded data removed]",
      "text/plain": [
       "<Figure size 432x288 with 1 Axes>"
      ]
     },
     "metadata": {
      "needs_background": "light",
      "tags": []
     },
     "output_type": "display_data"
    }
   ],
   "source": [
    "data = np.load(\"mini_mnist.npz\")\n",
    "\n",
    "train_data = data[\"train_data\"]\n",
    "train_labels = data[\"train_labels\"]\n",
    "test_data = data[\"test_data\"]\n",
    "test_labels = data[\"test_labels\"]\n",
    "\n",
    "N_train = train_data.shape[0]\n",
    "N_test = test_data.shape[0]\n",
    "\n",
    "# Check that data makes sense\n",
    "plt.figure()\n",
    "plt.imshow(train_data[0, :].reshape(28,28))\n",
    "print(train_labels[0])\n",
    "plt.show()"
   ]
  },
  {
   "cell_type": "markdown",
   "metadata": {
    "id": "dCRJVQsOEujY"
   },
   "source": [
    "Read and understand the code provided above"
   ]
  },
  {
   "cell_type": "markdown",
   "metadata": {
    "id": "48hf_kTSEujZ"
   },
   "source": [
    "**Q1.a.** Write a function `train_iter(model, loss, batch_data, batch_labels, lr)` that trains one iteration of a given `model` and `loss` (subclasses of `Module`) on a batch `(batch_data, batch_labels)` with a learning rate `lr`, and returns the training loss value. <br/>\n",
    "**Q1.b.** Test your function: write a simple loop that trains for 50 iterations a `SimpleMLP` on `train_data` with a learning rate `1e-3` and batches of size `16`.\n",
    "\n",
    "*Note: An **iteration** consists in running one batch through the model; an **epoch** consists in running multiple iterations so as to process each example of the training set once.*"
   ]
  },
  {
   "cell_type": "code",
   "execution_count": null,
   "metadata": {
    "colab": {
     "base_uri": "https://localhost:8080/"
    },
    "executionInfo": {
     "elapsed": 443,
     "status": "ok",
     "timestamp": 1615229586279,
     "user": {
      "displayName": "adrien sade",
      "photoUrl": "https://lh3.googleusercontent.com/a-/AOh14Ghm5D63iKkW8NdwA1UpcPwbfm6I0MmL_Pgyl1o=s64",
      "userId": "09079267221407323456"
     },
     "user_tz": -60
    },
    "id": "tfAhStuzEujZ",
    "outputId": "320a347a-e8f4-4e8a-96c4-92f514cd35f4"
   },
   "outputs": [
    {
     "name": "stdout",
     "output_type": "stream",
     "text": [
      "0.9993857715424449\n",
      "0.9911750427097613\n",
      "0.976873898365131\n",
      "0.9794993194129671\n",
      "0.9793473465219331\n",
      "0.9548477792592588\n",
      "0.9645177708393466\n",
      "0.9459851419529226\n",
      "0.9495682741911589\n",
      "0.9418324084527583\n",
      "0.9434241767527716\n",
      "0.9348110716789662\n",
      "0.930374905598757\n",
      "0.9093993359099845\n",
      "0.902563346818045\n",
      "0.8978875786015532\n",
      "0.8879790756441579\n",
      "0.8844388710445152\n",
      "0.89403739460211\n",
      "0.8935154029954664\n",
      "0.8671886236783938\n",
      "0.8921416870878021\n",
      "0.8787967371651874\n",
      "0.8783768510162242\n",
      "0.8844492254225227\n",
      "0.8915648340382153\n",
      "0.8530937058916139\n",
      "0.8719997612882979\n",
      "0.8818169932791732\n",
      "0.8492481262698472\n",
      "0.8396572068681596\n",
      "0.8236192597710837\n",
      "0.8535639166625002\n",
      "0.8494386770070324\n",
      "0.8547032799942769\n",
      "0.8544150896504679\n",
      "0.8739994408611538\n",
      "0.8509358192604148\n",
      "0.8567660080531272\n",
      "0.8253320962320936\n",
      "0.8460239796184503\n",
      "0.8546932148670914\n",
      "0.8284025044276948\n",
      "0.8438127016569062\n",
      "0.8235721951743147\n",
      "0.7996777323266131\n",
      "0.8249150200913156\n",
      "0.8257048359910586\n",
      "0.827435949630033\n",
      "0.8233951280082037\n"
     ]
    }
   ],
   "source": [
    "#1a\n",
    "def train_iter(model, loss, batch_data, batch_labels, lr):\n",
    "  output = model.forward(batch_data)\n",
    "  loss_value = loss.forward(output,batch_labels)\n",
    "  gradient = loss.backward(output,batch_labels)\n",
    "  model.backward(batch_data, gradient)\n",
    "  model.gradientStep(lr)\n",
    "\n",
    "  return loss_value\n",
    "\n",
    "\n",
    "#1b\n",
    "model = SimpleMLP()\n",
    "loss = LeastSquareCriterion()\n",
    "for i in range(50):\n",
    "  random_index = random.randint(0,N_train-17)\n",
    "  batch_data = train_data[random_index:random_index+16]\n",
    "  batch_labels = train_labels[random_index:random_index+16]\n",
    "\n",
    "  loss_value = train_iter(model,loss, batch_data, batch_labels, 1e-3)\n",
    "\n",
    "  print(loss_value)"
   ]
  },
  {
   "cell_type": "markdown",
   "metadata": {
    "id": "yqkMZZJtEuja"
   },
   "source": [
    "**Q2.a.** Write a function `evaluate(model, loss, data, labels)` that returns a couple `(loss, accuracy)` corresponding to the loss and accuracy computed on the whole `data`. <br/>\n",
    "**Q2.b.** Use your function to evaluate the model trained in question **1.b.** on the training and testing data. <br/> \n",
    "**Q2.c.** Check visually the quality of the results by plotting a few examples and their predictions."
   ]
  },
  {
   "cell_type": "code",
   "execution_count": null,
   "metadata": {
    "colab": {
     "base_uri": "https://localhost:8080/"
    },
    "executionInfo": {
     "elapsed": 435,
     "status": "ok",
     "timestamp": 1615229590006,
     "user": {
      "displayName": "adrien sade",
      "photoUrl": "https://lh3.googleusercontent.com/a-/AOh14Ghm5D63iKkW8NdwA1UpcPwbfm6I0MmL_Pgyl1o=s64",
      "userId": "09079267221407323456"
     },
     "user_tz": -60
    },
    "id": "tlaDcdd0Ha4U",
    "outputId": "d7f740e3-8f56-4911-d456-f5ff3a194527"
   },
   "outputs": [
    {
     "name": "stdout",
     "output_type": "stream",
     "text": [
      "(0.8154026677166557, 0.6322)\n",
      "(0.8282297546150758, 0.5885)\n"
     ]
    }
   ],
   "source": [
    "#2a\n",
    "def evaluate(model, loss, data, labels):\n",
    "  output = model.forward(data)\n",
    "  loss_value = loss.forward(output,labels)\n",
    "\n",
    "  accuracy = 0\n",
    "  for i in range(output.shape[0]):\n",
    "    predicted_label = np.argmax(output[i])\n",
    "    if predicted_label == labels[i]:\n",
    "      accuracy += 1\n",
    "  accuracy /= output.shape[0]\n",
    "    \n",
    "\n",
    "  return (loss_value,accuracy)\n",
    "\n",
    "#2b\n",
    "print(evaluate(model,loss,train_data,train_labels))\n",
    "print(evaluate(model,loss,test_data,test_labels))"
   ]
  },
  {
   "cell_type": "code",
   "execution_count": null,
   "metadata": {
    "colab": {
     "base_uri": "https://localhost:8080/",
     "height": 1000
    },
    "executionInfo": {
     "elapsed": 1351,
     "status": "ok",
     "timestamp": 1615229592866,
     "user": {
      "displayName": "adrien sade",
      "photoUrl": "https://lh3.googleusercontent.com/a-/AOh14Ghm5D63iKkW8NdwA1UpcPwbfm6I0MmL_Pgyl1o=s64",
      "userId": "09079267221407323456"
     },
     "user_tz": -60
    },
    "id": "kXJDJiEkmBk7",
    "outputId": "cb0ceb9f-0040-4dab-b64d-b065b9fcd161"
   },
   "outputs": [
    {
     "name": "stdout",
     "output_type": "stream",
     "text": [
      "predicted label :  9\n",
      "true label :  4\n"
     ]
    },
    {
     "data": {
      "image/png": "[encoded data removed]",
      "text/plain": [
       "<Figure size 432x288 with 1 Axes>"
      ]
     },
     "metadata": {
      "needs_background": "light",
      "tags": []
     },
     "output_type": "display_data"
    },
    {
     "name": "stdout",
     "output_type": "stream",
     "text": [
      "predicted label :  2\n",
      "true label :  8\n"
     ]
    },
    {
     "data": {
      "image/png": "[encoded data removed]",
      "text/plain": [
       "<Figure size 432x288 with 1 Axes>"
      ]
     },
     "metadata": {
      "needs_background": "light",
      "tags": []
     },
     "output_type": "display_data"
    },
    {
     "name": "stdout",
     "output_type": "stream",
     "text": [
      "predicted label :  2\n",
      "true label :  2\n"
     ]
    },
    {
     "data": {
      "image/png": "[encoded data removed]",
      "text/plain": [
       "<Figure size 432x288 with 1 Axes>"
      ]
     },
     "metadata": {
      "needs_background": "light",
      "tags": []
     },
     "output_type": "display_data"
    },
    {
     "name": "stdout",
     "output_type": "stream",
     "text": [
      "predicted label :  9\n",
      "true label :  4\n"
     ]
    },
    {
     "data": {
      "image/png": "[encoded data removed]",
      "text/plain": [
       "<Figure size 432x288 with 1 Axes>"
      ]
     },
     "metadata": {
      "needs_background": "light",
      "tags": []
     },
     "output_type": "display_data"
    },
    {
     "name": "stdout",
     "output_type": "stream",
     "text": [
      "predicted label :  2\n",
      "true label :  8\n"
     ]
    },
    {
     "data": {
      "image/png": "[encoded data removed]",
      "text/plain": [
       "<Figure size 432x288 with 1 Axes>"
      ]
     },
     "metadata": {
      "needs_background": "light",
      "tags": []
     },
     "output_type": "display_data"
    }
   ],
   "source": [
    "#2c\n",
    "output = model.forward(test_data)\n",
    "for _ in range(5):\n",
    "  i = random.randint(0,N_test-1)\n",
    "  plt.figure()\n",
    "  plt.imshow(test_data[i, :].reshape(28,28))\n",
    "  print(\"predicted label : \", np.argmax(output[i]))\n",
    "  print(\"true label : \", test_labels[i])\n",
    "  plt.show()\n"
   ]
  },
  {
   "cell_type": "markdown",
   "metadata": {
    "id": "QPNFBmFDEuja"
   },
   "source": [
    "**Q3.** Write a loop that trains a `SimpleMLP` for a whole epoch with the same parameters as in question **1.a.**. Plot the training and testing losses and accuracies during this training. \n",
    "\n",
    "*Note: you don't have to evaluate your network at every iteration, you can for example do it every 10 iterations*"
   ]
  },
  {
   "cell_type": "code",
   "execution_count": null,
   "metadata": {
    "colab": {
     "base_uri": "https://localhost:8080/",
     "height": 282
    },
    "executionInfo": {
     "elapsed": 16917,
     "status": "ok",
     "timestamp": 1615229611084,
     "user": {
      "displayName": "adrien sade",
      "photoUrl": "https://lh3.googleusercontent.com/a-/AOh14Ghm5D63iKkW8NdwA1UpcPwbfm6I0MmL_Pgyl1o=s64",
      "userId": "09079267221407323456"
     },
     "user_tz": -60
    },
    "id": "OHNYZ9wjHdkk",
    "outputId": "5ae925df-5fd3-4963-8070-93f23a2f5290"
   },
   "outputs": [
    {
     "data": {
      "text/plain": [
       "[<matplotlib.lines.Line2D at 0x7f2b46e66950>]"
      ]
     },
     "execution_count": 64,
     "metadata": {
      "tags": []
     },
     "output_type": "execute_result"
    },
    {
     "data": {
      "image/png": "[encoded data removed]",
      "text/plain": [
       "<Figure size 432x288 with 1 Axes>"
      ]
     },
     "metadata": {
      "needs_background": "light",
      "tags": []
     },
     "output_type": "display_data"
    }
   ],
   "source": [
    "#3\n",
    "model = SimpleMLP()\n",
    "loss = LeastSquareCriterion()\n",
    "training_loss = []\n",
    "testing_loss = []\n",
    "training_accuracy = []\n",
    "testing_accuracy = []\n",
    "iterations = 0\n",
    "for i in range(int(N_train/16)):                    #I checked that this is an integer (before conversion) so as to ensure that we use every picture\n",
    "  iterations += 1\n",
    "  batch_data = train_data[i*16:(i+1)*16]\n",
    "  batch_labels = train_labels[i*16:(i+1)*16]\n",
    "  train_iter(model,loss, batch_data, batch_labels, 1e-3)\n",
    "\n",
    "  if iterations == 10:\n",
    "    training_loss.append(evaluate(model,loss,train_data,train_labels)[0])\n",
    "    training_accuracy.append(evaluate(model,loss,train_data,train_labels)[1])\n",
    "    testing_loss.append(evaluate(model,loss,test_data,test_labels)[0])\n",
    "    testing_accuracy.append(evaluate(model,loss,test_data,test_labels)[1])\n",
    "    iterations = 0\n",
    "\n",
    "\n",
    "\n",
    "X = np.linspace(1,int(N_train/16),int(N_train/16/10))\n",
    "plt.plot(X,training_loss, 'blue')\n",
    "plt.plot(X,testing_loss, 'red')\n",
    "plt.plot(X,training_accuracy, 'orange')\n",
    "plt.plot(X,testing_accuracy, 'green')"
   ]
  },
  {
   "cell_type": "markdown",
   "metadata": {
    "id": "I_Ojz8kQEuja"
   },
   "source": [
    "**Q4.a.** Based on the previous questions, design a function \n",
    "\n",
    "<center><pre>train(model, loss, train_data, train_labels, test_data, test_labels, ...)</pre></center>\n",
    "\n",
    "that performs a full training of the input `model` on the training data. Choose the arguments of your function (for instance, `batch_size`, `lr`, `epochs`, etc) according to what seems relevant to you. This function should plot the training and validation losses and accuracies during training. <br/>\n",
    "**Q4.b.** Use your function to train a model with a good accuracy (decide for a learning rate, batch size...)"
   ]
  },
  {
   "cell_type": "code",
   "execution_count": null,
   "metadata": {
    "colab": {
     "base_uri": "https://localhost:8080/",
     "height": 265
    },
    "executionInfo": {
     "elapsed": 18809,
     "status": "ok",
     "timestamp": 1615229624217,
     "user": {
      "displayName": "adrien sade",
      "photoUrl": "https://lh3.googleusercontent.com/a-/AOh14Ghm5D63iKkW8NdwA1UpcPwbfm6I0MmL_Pgyl1o=s64",
      "userId": "09079267221407323456"
     },
     "user_tz": -60
    },
    "id": "fal2nJiTHecK",
    "outputId": "26c1a3df-97dd-46e5-c9b0-fcdcf72edda7"
   },
   "outputs": [
    {
     "data": {
      "image/png": "[encoded data removed]",
      "text/plain": [
       "<Figure size 432x288 with 1 Axes>"
      ]
     },
     "metadata": {
      "needs_background": "light",
      "tags": []
     },
     "output_type": "display_data"
    }
   ],
   "source": [
    "#4a\n",
    "def train(model, loss, train_data, train_labels, test_data, test_labels, batch_size, lr, epoch):\n",
    "  training_loss = []\n",
    "  testing_loss = []\n",
    "  training_accuracy = []\n",
    "  testing_accuracy = []\n",
    "  for _ in range(epoch):\n",
    "    for i in range(int(N_train/batch_size)): \n",
    "      batch_data = train_data[i*batch_size:(i+1)*batch_size]\n",
    "      batch_labels = train_labels[i*batch_size:(i+1)*batch_size]\n",
    "\n",
    "      train_iter(model,loss, batch_data, batch_labels, lr)\n",
    "    \n",
    "    training_loss.append(evaluate(model,loss,train_data,train_labels)[0])\n",
    "    training_accuracy.append(evaluate(model,loss,train_data,train_labels)[1])\n",
    "    testing_loss.append(evaluate(model,loss,test_data,test_labels)[0])\n",
    "    testing_accuracy.append(evaluate(model,loss,test_data,test_labels)[1])\n",
    "\n",
    "  X = np.linspace(1,epoch,epoch)\n",
    "  plt.plot(X,training_loss, 'blue')\n",
    "  plt.plot(X,testing_loss, 'red')\n",
    "  plt.plot(X,training_accuracy, 'orange')\n",
    "  plt.plot(X,testing_accuracy, 'green')\n",
    "\n",
    "\n",
    "#4b\n",
    "model = SimpleMLP()\n",
    "loss = LeastSquareCriterion()\n",
    "\n",
    "train(model, loss, train_data, train_labels, test_data, test_labels, 32, 1e-3, 20)"
   ]
  },
  {
   "cell_type": "markdown",
   "metadata": {
    "id": "cd3EWd4DEuja"
   },
   "source": [
    "## Part II. Overfitting"
   ]
  },
  {
   "cell_type": "markdown",
   "metadata": {
    "id": "oMN9TMLxEuja"
   },
   "source": [
    "**Q5.** What's the number of parameters in the network `SimpleMLP` used in the first section?"
   ]
  },
  {
   "cell_type": "markdown",
   "metadata": {
    "id": "_IWnPapZmOqO"
   },
   "source": [
    "5. In our MLP there are 3 hidden layers. The entry has 784 parameters (pixels), the first layer (linear) 64, the second layer (relu) has no parameter, the third (linear) has 64, the output has 10 parameters (classes). Thus there are $784\\times 64 + 64\\times0 + 0\\times64 + 64\\times10 = 50816$ parameters in total."
   ]
  },
  {
   "cell_type": "markdown",
   "metadata": {
    "id": "qh6jdkPqEujb"
   },
   "source": [
    "**Q6.a.** Modify the definition of `SimpleMLP` to allow changing the dimension of the hidden layer. <br/>\n",
    "**Q6.b.** Define a class `DoubleMLP` with three `Linear` layers, and parameters to change their dimensions. <br/>\n",
    "**Q6.c.** Define a class `DeepMLP` with a **list** parameter `hidden_features` that allows to vary the number of intermediate linear layers, and their dimensions:\n",
    "\n",
    "- `DeepMLP([64])` should be equivalent to `SimpleMLP()`;\n",
    "- `DeepMLP([64, 64, 64])` should be a MLP with four linear layers...\n",
    "\n",
    "**Q6.d.** Test your new classes: train a `DoubleMLP(64, 32)` and plot its performance"
   ]
  },
  {
   "cell_type": "code",
   "execution_count": null,
   "metadata": {
    "id": "GXRXLsizHfu4"
   },
   "outputs": [],
   "source": [
    "#6a\n",
    "class SimpleMLP(Module):\n",
    "    \"\"\"\n",
    "    This class is a simple example of a neural network, composed of two\n",
    "    linear layers, with a ReLU non-linearity in the middle\n",
    "    \"\"\"\n",
    "    def __init__(self,hidden_layer_dimension, in_dimension=784, num_classes=10):\n",
    "        super(SimpleMLP, self).__init__()\n",
    "        self.fc1 = Linear(in_dimension, hidden_layer_dimension)\n",
    "        self.relu1 = ReLU()\n",
    "        self.fc2 = Linear(hidden_layer_dimension, num_classes)\n",
    "    \n",
    "    def forward(self, x):\n",
    "        x = self.fc1.forward(x)\n",
    "        x = self.relu1.forward(x)\n",
    "        x = self.fc2.forward(x)\n",
    "        return x\n",
    "    \n",
    "    def backward(self, x, gradient):\n",
    "        gradient = self.fc2.backward(self.relu1.output, gradient)\n",
    "        gradient = self.relu1.backward(self.fc1.output, gradient)\n",
    "        gradient = self.fc1.backward(x, gradient)\n",
    "        return gradient\n",
    "    \n",
    "    def gradientStep(self, lr):\n",
    "        self.fc2.gradientStep(lr)\n",
    "        self.fc1.gradientStep(lr)\n",
    "        return True\n",
    "\n",
    "#6b\n",
    "class DoubleMLP(Module):\n",
    "    def __init__(self,hidden_layer_dimension_1, hidden_layer_dimension_2, in_dimension=784, num_classes=10):\n",
    "        super(DoubleMLP, self).__init__()\n",
    "        self.fc1 = Linear(in_dimension, hidden_layer_dimension_1)\n",
    "        self.relu1 = ReLU()\n",
    "        self.fc2 = Linear(hidden_layer_dimension_1, hidden_layer_dimension_2)\n",
    "        self.relu2 = ReLU()\n",
    "        self.fc3 = Linear(hidden_layer_dimension_2, num_classes)\n",
    "    \n",
    "    def forward(self, x):\n",
    "        x = self.fc1.forward(x)\n",
    "        x = self.relu1.forward(x)\n",
    "        x = self.fc2.forward(x)\n",
    "        x = self.relu2.forward(x)\n",
    "        x = self.fc3.forward(x)\n",
    "        return x\n",
    "    \n",
    "    def backward(self, x, gradient):\n",
    "        gradient = self.fc3.backward(self.relu2.output, gradient)\n",
    "        gradient = self.relu2.backward(self.fc2.output, gradient)\n",
    "        gradient = self.fc2.backward(self.relu1.output, gradient)\n",
    "        gradient = self.relu1.backward(self.fc1.output, gradient)\n",
    "        gradient = self.fc1.backward(x, gradient)\n",
    "        return gradient\n",
    "    \n",
    "    def gradientStep(self, lr):\n",
    "        self.fc3.gradientStep(lr)\n",
    "        self.fc2.gradientStep(lr)\n",
    "        self.fc1.gradientStep(lr)\n",
    "        return True\n",
    "\n",
    "#6c\n",
    "class DeepMLP(Module):\n",
    "    def __init__(self, hidden_layers, in_dimension=784, num_classes=10):\n",
    "        super(DeepMLP, self).__init__()\n",
    "        self.fc1 = Linear(in_dimension, hidden_layers[0])\n",
    "        self.fcs = [Linear(hidden_layers[i],hidden_layers[i+1]) for i in range(len(hidden_layers)-1)]\n",
    "        self.fcl = Linear(hidden_layers[-1],num_classes)\n",
    "        \n",
    "        self.relu = ReLU()\n",
    "    \n",
    "    def forward(self, x):\n",
    "        x = self.fc1.forward(x)\n",
    "        x = self.relu.forward(x)\n",
    "        for i in range(len(self.fcs)):\n",
    "          x = self.fcs[i].forward(x)\n",
    "          x = self.relu.forward(x)\n",
    "        x = self.fcl.forward(x)\n",
    "        return x\n",
    "    \n",
    "    def backward(self, x, gradient):\n",
    "        gradient = self.fcl.backward(self.relu.output, gradient)\n",
    "        for i in range(len(self.fcs)-1,0,-1):\n",
    "          gradient = self.relu.backward(self.fcs[i].output, gradient)\n",
    "          gradient = self.fcs[i].backward(self.fcs[i-1].output, gradient)\n",
    "        gradient = self.relu.backward(self.fcs[0].output, gradient)\n",
    "        gradient = self.fcs[0].backward(x, gradient)\n",
    "        return gradient\n",
    "    \n",
    "    def gradientStep(self, lr):\n",
    "        self.fcl.gradientStep(lr)\n",
    "        for i in range(len(self.fcs)-1,-1,-1):\n",
    "          self.fcs[i].gradientStep(lr)\n",
    "        return True"
   ]
  },
  {
   "cell_type": "code",
   "execution_count": null,
   "metadata": {
    "colab": {
     "base_uri": "https://localhost:8080/",
     "height": 265
    },
    "executionInfo": {
     "elapsed": 13961,
     "status": "ok",
     "timestamp": 1615229635688,
     "user": {
      "displayName": "adrien sade",
      "photoUrl": "https://lh3.googleusercontent.com/a-/AOh14Ghm5D63iKkW8NdwA1UpcPwbfm6I0MmL_Pgyl1o=s64",
      "userId": "09079267221407323456"
     },
     "user_tz": -60
    },
    "id": "oJONv7-2EYS2",
    "outputId": "bc26120d-75b9-4000-c46a-77431aa0202e"
   },
   "outputs": [
    {
     "data": {
      "image/png": "[encoded data removed]",
      "text/plain": [
       "<Figure size 432x288 with 1 Axes>"
      ]
     },
     "metadata": {
      "needs_background": "light",
      "tags": []
     },
     "output_type": "display_data"
    }
   ],
   "source": [
    "#6d\n",
    "model = DoubleMLP(64, 32)\n",
    "train(model, loss,train_data, train_labels, test_data, test_labels, 32, 1e-2, 15)"
   ]
  },
  {
   "cell_type": "markdown",
   "metadata": {
    "id": "1sbmxZ0QEujb"
   },
   "source": [
    "**Q7.** Add to `Linear` and one of your MLP classes an optional parameter for (L2) weight decay (in the `gradientStep` functions) and show that it can reduce overfitting in some cases.\n",
    "\n",
    "*(Note: improving the validation performance may be hard; you can look at a setting with only very little training data to see, and focus on showing that the gap between training and validation performance decreases)*"
   ]
  },
  {
   "cell_type": "code",
   "execution_count": null,
   "metadata": {
    "colab": {
     "base_uri": "https://localhost:8080/",
     "height": 265
    },
    "executionInfo": {
     "elapsed": 12846,
     "status": "ok",
     "timestamp": 1615229655891,
     "user": {
      "displayName": "adrien sade",
      "photoUrl": "https://lh3.googleusercontent.com/a-/AOh14Ghm5D63iKkW8NdwA1UpcPwbfm6I0MmL_Pgyl1o=s64",
      "userId": "09079267221407323456"
     },
     "user_tz": -60
    },
    "id": "OUGyxvgAHhSA",
    "outputId": "3e856eaa-6349-4c09-821e-202e35de618d"
   },
   "outputs": [
    {
     "data": {
      "image/png": "[encoded data removed]",
      "text/plain": [
       "<Figure size 432x288 with 1 Axes>"
      ]
     },
     "metadata": {
      "needs_background": "light",
      "tags": []
     },
     "output_type": "display_data"
    }
   ],
   "source": [
    "#7\n",
    "class Linear(Module):\n",
    "    \"\"\"\n",
    "    The input is supposed to have two dimensions (batch_size, in_features)\n",
    "    \"\"\"\n",
    "    def __init__(self, in_features, out_features, bias=True):\n",
    "        super(Linear, self).__init__()\n",
    "        self.in_features = in_features\n",
    "        self.out_features = out_features\n",
    "        \n",
    "        self.weight = (\n",
    "            math.sqrt(1. / (out_features*in_features)) * \n",
    "            np.random.randn(out_features, in_features)\n",
    "        )\n",
    "        self.bias = np.zeros(out_features)\n",
    "        \n",
    "        self.gradWeight = None\n",
    "        self.gradBias = None\n",
    "\n",
    "    def forward(self, x):\n",
    "        self.output = np.dot(x, self.weight.transpose()) + self.bias[None, :]\n",
    "        return self.output\n",
    "    \n",
    "    def backward(self, x, gradOutput):\n",
    "        self.gradInput = np.dot(gradOutput, self.weight)\n",
    "        self.gradWeight = np.dot(gradOutput.transpose(), x)\n",
    "        self.gradBias = np.sum(gradOutput, axis=0)\n",
    "        return self.gradInput\n",
    "    \n",
    "    def gradientStep(self, lr, L2):\n",
    "        self.weight = self.weight - lr*self.gradWeight - 2*lr*self.weight*L2\n",
    "        self.bias = self.bias - lr*self.gradBias\n",
    "\n",
    "\n",
    "class DoubleMLP(Module):\n",
    "    def __init__(self,hidden_layer_dimension_1, hidden_layer_dimension_2, in_dimension=784, num_classes=10):\n",
    "        super(DoubleMLP, self).__init__()\n",
    "        self.fc1 = Linear(in_dimension, hidden_layer_dimension_1)\n",
    "        self.relu1 = ReLU()\n",
    "        self.fc2 = Linear(hidden_layer_dimension_1, hidden_layer_dimension_2)\n",
    "        self.relu2 = ReLU()\n",
    "        self.fc3 = Linear(hidden_layer_dimension_2, num_classes)\n",
    "    \n",
    "    def forward(self, x):\n",
    "        x = self.fc1.forward(x)\n",
    "        x = self.relu1.forward(x)\n",
    "        x = self.fc2.forward(x)\n",
    "        x = self.relu2.forward(x)\n",
    "        x = self.fc3.forward(x)\n",
    "        return x\n",
    "    \n",
    "    def backward(self, x, gradient):\n",
    "        gradient = self.fc3.backward(self.relu2.output, gradient)\n",
    "        gradient = self.relu2.backward(self.fc2.output, gradient)\n",
    "        gradient = self.fc2.backward(self.relu1.output, gradient)\n",
    "        gradient = self.relu1.backward(self.fc1.output, gradient)\n",
    "        gradient = self.fc1.backward(x, gradient)\n",
    "        return gradient\n",
    "    \n",
    "    def gradientStep(self, lr, L2):\n",
    "        self.fc3.gradientStep(lr, L2)\n",
    "        self.fc2.gradientStep(lr, L2)\n",
    "        self.fc1.gradientStep(lr, L2)\n",
    "        return True\n",
    "\n",
    "\n",
    "def train_iter(model, loss, batch_data, batch_labels, lr, L2):\n",
    "  output = model.forward(batch_data)\n",
    "  loss_value = loss.forward(output,batch_labels)\n",
    "  gradient = loss.backward(output,batch_labels)\n",
    "  model.backward(batch_data, gradient)\n",
    "  model.gradientStep(lr, L2)\n",
    "\n",
    "  return loss_value\n",
    "\n",
    "\n",
    "def train(model, loss, train_data, train_labels, test_data, test_labels, batch_size, lr, epoch, L2):\n",
    "  training_loss = []\n",
    "  testing_loss = []\n",
    "  training_accuracy = []\n",
    "  testing_accuracy = []\n",
    "  for _ in range(epoch):\n",
    "    for i in range(int(N_train/batch_size)): \n",
    "      batch_data = train_data[i*batch_size:(i+1)*batch_size]\n",
    "      batch_labels = train_labels[i*batch_size:(i+1)*batch_size]\n",
    "\n",
    "      train_iter(model,loss, batch_data, batch_labels, lr, L2)\n",
    "    \n",
    "    training_loss.append(evaluate(model,loss,train_data,train_labels)[0])\n",
    "    training_accuracy.append(evaluate(model,loss,train_data,train_labels)[1])\n",
    "    testing_loss.append(evaluate(model,loss,test_data,test_labels)[0])\n",
    "    testing_accuracy.append(evaluate(model,loss,test_data,test_labels)[1])\n",
    "\n",
    "  X = np.linspace(1,epoch,epoch)\n",
    "  plt.plot(X,training_loss, 'blue')\n",
    "  plt.plot(X,testing_loss, 'red')\n",
    "  plt.plot(X,training_accuracy, 'orange')\n",
    "  plt.plot(X,testing_accuracy, 'green')\n",
    "\n",
    "model = DoubleMLP(64, 32)\n",
    "train(model, loss,train_data, train_labels, test_data, test_labels, 32, 1e-2, 15, True)\n"
   ]
  },
  {
   "cell_type": "markdown",
   "metadata": {
    "id": "y5LecRIqMJmJ"
   },
   "source": [
    "7. We can clearly see a decrease of the gap between the red and blue curves (training and testing losses) or between the yellow and green curves (training and testing accuracies) in comparison with the result obtained at question 6 (same parameters, except 7 uses the weight decay). The global result are much worst than before, however it is not the goal of this question."
   ]
  },
  {
   "cell_type": "markdown",
   "metadata": {
    "id": "Wscd96sSEujb"
   },
   "source": [
    "## Part III. Optional"
   ]
  },
  {
   "cell_type": "markdown",
   "metadata": {
    "id": "5ef3D2_QEujb"
   },
   "source": [
    "The following questions are optional and do not have a specific order! A limited number of bonus points can be granted on completing them."
   ]
  },
  {
   "cell_type": "markdown",
   "metadata": {
    "id": "TMCM9CgyEujc"
   },
   "source": [
    "**Q8.** Implement and test different non-linearities"
   ]
  },
  {
   "cell_type": "markdown",
   "metadata": {
    "id": "bBxcdAo3Eujc"
   },
   "source": [
    "**Q9.** Implement and test different loss functions (L1, Cross-Entropy)"
   ]
  },
  {
   "cell_type": "markdown",
   "metadata": {
    "id": "Jl-PCcn8Eujc"
   },
   "source": [
    "**Q10.** Add some momentum to your training procedure. How does it change the training behavior?"
   ]
  },
  {
   "cell_type": "markdown",
   "metadata": {
    "id": "0X91OdwPEujd"
   },
   "source": [
    "**Q11.** (longer/harder) Implement and test layers that consider the 2D structure of the input data (max pooling, convolution)"
   ]
  }
 ],
 "metadata": {
  "colab": {
   "collapsed_sections": [],
   "name": "tp1_nn_scratch_AS.ipynb",
   "provenance": []
  },
  "kernelspec": {
   "display_name": "Python 3",
   "language": "python",
   "name": "python3"
  },
  "language_info": {
   "codemirror_mode": {
    "name": "ipython",
    "version": 3
   },
   "file_extension": ".py",
   "mimetype": "text/x-python",
   "name": "python",
   "nbconvert_exporter": "python",
   "pygments_lexer": "ipython3",
   "version": "3.7.6"
  }
 },
 "nbformat": 4,
 "nbformat_minor": 1
}
